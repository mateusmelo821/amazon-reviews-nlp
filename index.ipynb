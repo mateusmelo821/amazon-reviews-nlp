{
 "cells": [
  {
   "cell_type": "markdown",
   "id": "4ba75a62",
   "metadata": {},
   "source": [
    "# Amazon Reviews Category Classification\n",
    "\n",
    "In this project, we are going to use some amazon reviews data, made available by [Keith Galli](https://github.com/KeithGalli/pycon2020), and NLP techniques in order to build a category classification model. This report is divided in 4 parts:\n",
    "\n",
    "* Setting up the data\n",
    "* Training the model\n",
    "* Evaluating the model\n",
    "* Conclusion\n",
    "\n",
    "## Setting up the data\n",
    "\n",
    "We start our project by loading the data and necessary packages. The data was previously stored in a S3 bucket and it is already divided into 2 datasets, one for training and one for testing. The aws cli is already installed and setted up locally."
   ]
  },
  {
   "cell_type": "code",
   "execution_count": 1,
   "id": "6680df55",
   "metadata": {},
   "outputs": [
    {
     "data": {
      "text/plain": [
       "['train_Automotive.json',\n",
       " 'train_Beauty.json',\n",
       " 'train_Books.json',\n",
       " 'train_Clothing.json',\n",
       " 'train_Digital_Music.json',\n",
       " 'train_Electronics.json',\n",
       " 'train_Grocery.json',\n",
       " 'train_Patio_Lawn_Garden.json',\n",
       " 'train_Pet_Supplies.json']"
      ]
     },
     "execution_count": 1,
     "metadata": {},
     "output_type": "execute_result"
    }
   ],
   "source": [
    "import pandas as pd\n",
    "import numpy as np\n",
    "from sklearn.model_selection import train_test_split\n",
    "from sklearn.feature_extraction.text import CountVectorizer, TfidfVectorizer\n",
    "from sklearn.metrics import f1_score, accuracy_score\n",
    "from sklearn import svm\n",
    "import spacy\n",
    "import json\n",
    "import boto3\n",
    "\n",
    "bucket_name = 'melo-datascience-projects'\n",
    "training_path = 'nlp/amazon-reviews/training/'\n",
    "testing_path = 'nlp/amazon-reviews/test/'\n",
    "s3 = boto3.resource('s3')\n",
    "bucket = s3.Bucket(bucket_name)\n",
    "training_files = [file.key.replace(training_path, '') for file in bucket.objects.filter(Prefix=training_path)]\n",
    "training_files"
   ]
  },
  {
   "cell_type": "code",
   "execution_count": 2,
   "id": "5b432b41",
   "metadata": {},
   "outputs": [
    {
     "data": {
      "text/plain": [
       "['test_Automotive.json',\n",
       " 'test_Beauty.json',\n",
       " 'test_Books.json',\n",
       " 'test_Clothing.json',\n",
       " 'test_Digital_Music.json',\n",
       " 'test_Electronics.json',\n",
       " 'test_Grocery.json',\n",
       " 'test_Patio_Lawn_Garden.json',\n",
       " 'test_Pet_Supplies.json']"
      ]
     },
     "execution_count": 2,
     "metadata": {},
     "output_type": "execute_result"
    }
   ],
   "source": [
    "testing_files = [file.key.replace(testing_path, '') for file in bucket.objects.filter(Prefix=testing_path)]\n",
    "testing_files"
   ]
  },
  {
   "cell_type": "markdown",
   "id": "b9101d1e",
   "metadata": {},
   "source": [
    "As we can see, both the training and testing datasets are divided in several files. Each file contains reviews for a specific category, which is going to be the prediction target of our model. The titles are self-descriptive. Let us read the files."
   ]
  },
  {
   "cell_type": "code",
   "execution_count": 3,
   "id": "a596207a",
   "metadata": {},
   "outputs": [
    {
     "data": {
      "text/html": [
       "<div>\n",
       "<style scoped>\n",
       "    .dataframe tbody tr th:only-of-type {\n",
       "        vertical-align: middle;\n",
       "    }\n",
       "\n",
       "    .dataframe tbody tr th {\n",
       "        vertical-align: top;\n",
       "    }\n",
       "\n",
       "    .dataframe thead th {\n",
       "        text-align: right;\n",
       "    }\n",
       "</style>\n",
       "<table border=\"1\" class=\"dataframe\">\n",
       "  <thead>\n",
       "    <tr style=\"text-align: right;\">\n",
       "      <th></th>\n",
       "      <th>overall</th>\n",
       "      <th>verified</th>\n",
       "      <th>reviewTime</th>\n",
       "      <th>reviewerID</th>\n",
       "      <th>asin</th>\n",
       "      <th>style</th>\n",
       "      <th>reviewerName</th>\n",
       "      <th>reviewText</th>\n",
       "      <th>summary</th>\n",
       "      <th>unixReviewTime</th>\n",
       "      <th>vote</th>\n",
       "      <th>image</th>\n",
       "      <th>category</th>\n",
       "    </tr>\n",
       "  </thead>\n",
       "  <tbody>\n",
       "    <tr>\n",
       "      <th>22495</th>\n",
       "      <td>5</td>\n",
       "      <td>True</td>\n",
       "      <td>04 22, 2016</td>\n",
       "      <td>A34IOVL7T9YYSF</td>\n",
       "      <td>B0002H335A</td>\n",
       "      <td>{'Size:': ' 3 Ton'}</td>\n",
       "      <td>JAF</td>\n",
       "      <td>Exactly What I expected, delivered on time. Hi...</td>\n",
       "      <td>Highly Recommend.</td>\n",
       "      <td>1461283200</td>\n",
       "      <td>NaN</td>\n",
       "      <td>NaN</td>\n",
       "      <td>Automotive</td>\n",
       "    </tr>\n",
       "    <tr>\n",
       "      <th>22496</th>\n",
       "      <td>5</td>\n",
       "      <td>True</td>\n",
       "      <td>03 27, 2018</td>\n",
       "      <td>A1LTFR6UKP7N3Q</td>\n",
       "      <td>B000CITK8S</td>\n",
       "      <td>{'Size:': ' 12V @ 750mA', 'Color:': ' Black/Gr...</td>\n",
       "      <td>Bryan Hargrave</td>\n",
       "      <td>Got this thing taking care of my lawnmower bat...</td>\n",
       "      <td>... care of my lawnmower battery and it is wor...</td>\n",
       "      <td>1522108800</td>\n",
       "      <td>NaN</td>\n",
       "      <td>NaN</td>\n",
       "      <td>Automotive</td>\n",
       "    </tr>\n",
       "    <tr>\n",
       "      <th>22497</th>\n",
       "      <td>5</td>\n",
       "      <td>True</td>\n",
       "      <td>07 22, 2016</td>\n",
       "      <td>A10DPAG6XHKI25</td>\n",
       "      <td>B0006I0MVS</td>\n",
       "      <td>{'Size:': ' 1 inch Shaft', 'Color:': ' Beige'}</td>\n",
       "      <td>buyer</td>\n",
       "      <td>Great replacement for old brittle handles. As ...</td>\n",
       "      <td>Great replacement for old brittle handles</td>\n",
       "      <td>1469145600</td>\n",
       "      <td>NaN</td>\n",
       "      <td>NaN</td>\n",
       "      <td>Automotive</td>\n",
       "    </tr>\n",
       "    <tr>\n",
       "      <th>22498</th>\n",
       "      <td>5</td>\n",
       "      <td>True</td>\n",
       "      <td>10 11, 2016</td>\n",
       "      <td>A20JW9PWVAENUP</td>\n",
       "      <td>B000BUU5VS</td>\n",
       "      <td>{'Style:': ' Slide Out Lube'}</td>\n",
       "      <td>michael owens</td>\n",
       "      <td>great</td>\n",
       "      <td>great</td>\n",
       "      <td>1476144000</td>\n",
       "      <td>NaN</td>\n",
       "      <td>NaN</td>\n",
       "      <td>Automotive</td>\n",
       "    </tr>\n",
       "    <tr>\n",
       "      <th>22499</th>\n",
       "      <td>5</td>\n",
       "      <td>True</td>\n",
       "      <td>07 23, 2015</td>\n",
       "      <td>A30DC6PH6NJQL9</td>\n",
       "      <td>B00017YYI6</td>\n",
       "      <td>NaN</td>\n",
       "      <td>Susan</td>\n",
       "      <td>My husband likes it, he can fill air bags goin...</td>\n",
       "      <td>Five Stars</td>\n",
       "      <td>1437609600</td>\n",
       "      <td>NaN</td>\n",
       "      <td>NaN</td>\n",
       "      <td>Automotive</td>\n",
       "    </tr>\n",
       "  </tbody>\n",
       "</table>\n",
       "</div>"
      ],
      "text/plain": [
       "       overall  verified   reviewTime      reviewerID        asin  \\\n",
       "22495        5      True  04 22, 2016  A34IOVL7T9YYSF  B0002H335A   \n",
       "22496        5      True  03 27, 2018  A1LTFR6UKP7N3Q  B000CITK8S   \n",
       "22497        5      True  07 22, 2016  A10DPAG6XHKI25  B0006I0MVS   \n",
       "22498        5      True  10 11, 2016  A20JW9PWVAENUP  B000BUU5VS   \n",
       "22499        5      True  07 23, 2015  A30DC6PH6NJQL9  B00017YYI6   \n",
       "\n",
       "                                                   style    reviewerName  \\\n",
       "22495                                {'Size:': ' 3 Ton'}             JAF   \n",
       "22496  {'Size:': ' 12V @ 750mA', 'Color:': ' Black/Gr...  Bryan Hargrave   \n",
       "22497     {'Size:': ' 1 inch Shaft', 'Color:': ' Beige'}           buyer   \n",
       "22498                      {'Style:': ' Slide Out Lube'}   michael owens   \n",
       "22499                                                NaN           Susan   \n",
       "\n",
       "                                              reviewText  \\\n",
       "22495  Exactly What I expected, delivered on time. Hi...   \n",
       "22496  Got this thing taking care of my lawnmower bat...   \n",
       "22497  Great replacement for old brittle handles. As ...   \n",
       "22498                                              great   \n",
       "22499  My husband likes it, he can fill air bags goin...   \n",
       "\n",
       "                                                 summary  unixReviewTime  \\\n",
       "22495                                  Highly Recommend.      1461283200   \n",
       "22496  ... care of my lawnmower battery and it is wor...      1522108800   \n",
       "22497          Great replacement for old brittle handles      1469145600   \n",
       "22498                                              great      1476144000   \n",
       "22499                                         Five Stars      1437609600   \n",
       "\n",
       "       vote image    category  \n",
       "22495   NaN   NaN  Automotive  \n",
       "22496   NaN   NaN  Automotive  \n",
       "22497   NaN   NaN  Automotive  \n",
       "22498   NaN   NaN  Automotive  \n",
       "22499   NaN   NaN  Automotive  "
      ]
     },
     "execution_count": 3,
     "metadata": {},
     "output_type": "execute_result"
    }
   ],
   "source": [
    "train_df = pd.DataFrame()\n",
    "for file in training_files:\n",
    "    obj = s3.Object(bucket_name, training_path+file).get()['Body'].read()\n",
    "    train_df_aux = pd.read_json(obj.decode(), lines=True)\n",
    "    train_df_aux['category'] = file.strip('train_').split('.')[0]\n",
    "    train_df = pd.concat([train_df_aux, train_df], ignore_index=True)\n",
    "\n",
    "train_df.tail()"
   ]
  },
  {
   "cell_type": "code",
   "execution_count": 4,
   "id": "851caf1e",
   "metadata": {},
   "outputs": [
    {
     "data": {
      "text/html": [
       "<div>\n",
       "<style scoped>\n",
       "    .dataframe tbody tr th:only-of-type {\n",
       "        vertical-align: middle;\n",
       "    }\n",
       "\n",
       "    .dataframe tbody tr th {\n",
       "        vertical-align: top;\n",
       "    }\n",
       "\n",
       "    .dataframe thead th {\n",
       "        text-align: right;\n",
       "    }\n",
       "</style>\n",
       "<table border=\"1\" class=\"dataframe\">\n",
       "  <thead>\n",
       "    <tr style=\"text-align: right;\">\n",
       "      <th></th>\n",
       "      <th>overall</th>\n",
       "      <th>verified</th>\n",
       "      <th>reviewTime</th>\n",
       "      <th>reviewerID</th>\n",
       "      <th>asin</th>\n",
       "      <th>reviewerName</th>\n",
       "      <th>reviewText</th>\n",
       "      <th>summary</th>\n",
       "      <th>unixReviewTime</th>\n",
       "      <th>style</th>\n",
       "      <th>vote</th>\n",
       "      <th>image</th>\n",
       "      <th>category</th>\n",
       "    </tr>\n",
       "  </thead>\n",
       "  <tbody>\n",
       "    <tr>\n",
       "      <th>4495</th>\n",
       "      <td>5</td>\n",
       "      <td>True</td>\n",
       "      <td>08 26, 2015</td>\n",
       "      <td>A1SRL9RS46YFNY</td>\n",
       "      <td>B0000AXS24</td>\n",
       "      <td>pedro vazquez</td>\n",
       "      <td>Good productos</td>\n",
       "      <td>Five Stars</td>\n",
       "      <td>1440547200</td>\n",
       "      <td>{'Color:': ' Black'}</td>\n",
       "      <td>NaN</td>\n",
       "      <td>NaN</td>\n",
       "      <td>Automotive</td>\n",
       "    </tr>\n",
       "    <tr>\n",
       "      <th>4496</th>\n",
       "      <td>5</td>\n",
       "      <td>True</td>\n",
       "      <td>08 7, 2017</td>\n",
       "      <td>AYNPB2QQS2QUF</td>\n",
       "      <td>B000CONU1K</td>\n",
       "      <td>dino77dan</td>\n",
       "      <td>Easy to install. Highly re ommended.</td>\n",
       "      <td>Good quality locks.</td>\n",
       "      <td>1502064000</td>\n",
       "      <td>NaN</td>\n",
       "      <td>NaN</td>\n",
       "      <td>NaN</td>\n",
       "      <td>Automotive</td>\n",
       "    </tr>\n",
       "    <tr>\n",
       "      <th>4497</th>\n",
       "      <td>5</td>\n",
       "      <td>True</td>\n",
       "      <td>11 1, 2015</td>\n",
       "      <td>A28YJ3RXJM0R5P</td>\n",
       "      <td>B00062YCGA</td>\n",
       "      <td>Michael</td>\n",
       "      <td>Awesome price for such good oil!</td>\n",
       "      <td>Five Stars</td>\n",
       "      <td>1446336000</td>\n",
       "      <td>{'Size:': ' 5 Quart'}</td>\n",
       "      <td>NaN</td>\n",
       "      <td>NaN</td>\n",
       "      <td>Automotive</td>\n",
       "    </tr>\n",
       "    <tr>\n",
       "      <th>4498</th>\n",
       "      <td>5</td>\n",
       "      <td>True</td>\n",
       "      <td>08 23, 2010</td>\n",
       "      <td>AJU1HQWCM13Y8</td>\n",
       "      <td>B000CPAEJA</td>\n",
       "      <td>John Dowdell</td>\n",
       "      <td>High quality CV joint grease. I use this greas...</td>\n",
       "      <td>High quality CV joint grease</td>\n",
       "      <td>1282521600</td>\n",
       "      <td>{'Item Package Quantity:': ' 1', 'Package Quan...</td>\n",
       "      <td>8.0</td>\n",
       "      <td>NaN</td>\n",
       "      <td>Automotive</td>\n",
       "    </tr>\n",
       "    <tr>\n",
       "      <th>4499</th>\n",
       "      <td>4</td>\n",
       "      <td>True</td>\n",
       "      <td>07 5, 2014</td>\n",
       "      <td>A2G7YC89EHUP2G</td>\n",
       "      <td>B000C9WL6A</td>\n",
       "      <td>review</td>\n",
       "      <td>Well made</td>\n",
       "      <td>Four Stars</td>\n",
       "      <td>1404518400</td>\n",
       "      <td>{'Item Package Quantity:': ' 1', 'Package Quan...</td>\n",
       "      <td>NaN</td>\n",
       "      <td>NaN</td>\n",
       "      <td>Automotive</td>\n",
       "    </tr>\n",
       "  </tbody>\n",
       "</table>\n",
       "</div>"
      ],
      "text/plain": [
       "      overall  verified   reviewTime      reviewerID        asin  \\\n",
       "4495        5      True  08 26, 2015  A1SRL9RS46YFNY  B0000AXS24   \n",
       "4496        5      True   08 7, 2017   AYNPB2QQS2QUF  B000CONU1K   \n",
       "4497        5      True   11 1, 2015  A28YJ3RXJM0R5P  B00062YCGA   \n",
       "4498        5      True  08 23, 2010   AJU1HQWCM13Y8  B000CPAEJA   \n",
       "4499        4      True   07 5, 2014  A2G7YC89EHUP2G  B000C9WL6A   \n",
       "\n",
       "       reviewerName                                         reviewText  \\\n",
       "4495  pedro vazquez                                     Good productos   \n",
       "4496      dino77dan               Easy to install. Highly re ommended.   \n",
       "4497        Michael                   Awesome price for such good oil!   \n",
       "4498   John Dowdell  High quality CV joint grease. I use this greas...   \n",
       "4499         review                                          Well made   \n",
       "\n",
       "                           summary  unixReviewTime  \\\n",
       "4495                    Five Stars      1440547200   \n",
       "4496           Good quality locks.      1502064000   \n",
       "4497                    Five Stars      1446336000   \n",
       "4498  High quality CV joint grease      1282521600   \n",
       "4499                    Four Stars      1404518400   \n",
       "\n",
       "                                                  style  vote image  \\\n",
       "4495                               {'Color:': ' Black'}   NaN   NaN   \n",
       "4496                                                NaN   NaN   NaN   \n",
       "4497                              {'Size:': ' 5 Quart'}   NaN   NaN   \n",
       "4498  {'Item Package Quantity:': ' 1', 'Package Quan...   8.0   NaN   \n",
       "4499  {'Item Package Quantity:': ' 1', 'Package Quan...   NaN   NaN   \n",
       "\n",
       "        category  \n",
       "4495  Automotive  \n",
       "4496  Automotive  \n",
       "4497  Automotive  \n",
       "4498  Automotive  \n",
       "4499  Automotive  "
      ]
     },
     "execution_count": 4,
     "metadata": {},
     "output_type": "execute_result"
    }
   ],
   "source": [
    "test_df = pd.DataFrame()\n",
    "for file in testing_files:\n",
    "    obj = s3.Object(bucket_name, testing_path+file).get()['Body'].read()\n",
    "    test_df_aux = pd.read_json(obj.decode(), lines=True)\n",
    "    test_df_aux['category'] = file.strip('test_').split('.')[0]\n",
    "    test_df = pd.concat([test_df_aux, test_df], ignore_index=True)\n",
    "\n",
    "test_df.tail()"
   ]
  },
  {
   "cell_type": "markdown",
   "id": "e8e04148",
   "metadata": {},
   "source": [
    "We have 22500 rows for training and 4500 for testing. We also have several columns, but we will only be using 2: reviewText and category. Let us remove the unnecessary columns. We will also check the category proportions."
   ]
  },
  {
   "cell_type": "code",
   "execution_count": 5,
   "id": "8d6e90d5",
   "metadata": {},
   "outputs": [
    {
     "data": {
      "text/html": [
       "<div>\n",
       "<style scoped>\n",
       "    .dataframe tbody tr th:only-of-type {\n",
       "        vertical-align: middle;\n",
       "    }\n",
       "\n",
       "    .dataframe tbody tr th {\n",
       "        vertical-align: top;\n",
       "    }\n",
       "\n",
       "    .dataframe thead th {\n",
       "        text-align: right;\n",
       "    }\n",
       "</style>\n",
       "<table border=\"1\" class=\"dataframe\">\n",
       "  <thead>\n",
       "    <tr style=\"text-align: right;\">\n",
       "      <th></th>\n",
       "      <th>reviewText</th>\n",
       "      <th>category</th>\n",
       "    </tr>\n",
       "  </thead>\n",
       "  <tbody>\n",
       "    <tr>\n",
       "      <th>22495</th>\n",
       "      <td>Exactly What I expected, delivered on time. Hi...</td>\n",
       "      <td>Automotive</td>\n",
       "    </tr>\n",
       "    <tr>\n",
       "      <th>22496</th>\n",
       "      <td>Got this thing taking care of my lawnmower bat...</td>\n",
       "      <td>Automotive</td>\n",
       "    </tr>\n",
       "    <tr>\n",
       "      <th>22497</th>\n",
       "      <td>Great replacement for old brittle handles. As ...</td>\n",
       "      <td>Automotive</td>\n",
       "    </tr>\n",
       "    <tr>\n",
       "      <th>22498</th>\n",
       "      <td>great</td>\n",
       "      <td>Automotive</td>\n",
       "    </tr>\n",
       "    <tr>\n",
       "      <th>22499</th>\n",
       "      <td>My husband likes it, he can fill air bags goin...</td>\n",
       "      <td>Automotive</td>\n",
       "    </tr>\n",
       "  </tbody>\n",
       "</table>\n",
       "</div>"
      ],
      "text/plain": [
       "                                              reviewText    category\n",
       "22495  Exactly What I expected, delivered on time. Hi...  Automotive\n",
       "22496  Got this thing taking care of my lawnmower bat...  Automotive\n",
       "22497  Great replacement for old brittle handles. As ...  Automotive\n",
       "22498                                              great  Automotive\n",
       "22499  My husband likes it, he can fill air bags goin...  Automotive"
      ]
     },
     "execution_count": 5,
     "metadata": {},
     "output_type": "execute_result"
    }
   ],
   "source": [
    "columns = ['reviewText', 'category']\n",
    "train_df = train_df[columns]\n",
    "test_df = test_df[columns]\n",
    "\n",
    "train_df.tail()"
   ]
  },
  {
   "cell_type": "code",
   "execution_count": 6,
   "id": "46b8f95c",
   "metadata": {},
   "outputs": [
    {
     "data": {
      "text/html": [
       "<div>\n",
       "<style scoped>\n",
       "    .dataframe tbody tr th:only-of-type {\n",
       "        vertical-align: middle;\n",
       "    }\n",
       "\n",
       "    .dataframe tbody tr th {\n",
       "        vertical-align: top;\n",
       "    }\n",
       "\n",
       "    .dataframe thead th {\n",
       "        text-align: right;\n",
       "    }\n",
       "</style>\n",
       "<table border=\"1\" class=\"dataframe\">\n",
       "  <thead>\n",
       "    <tr style=\"text-align: right;\">\n",
       "      <th></th>\n",
       "      <th>reviewText</th>\n",
       "      <th>category</th>\n",
       "    </tr>\n",
       "  </thead>\n",
       "  <tbody>\n",
       "    <tr>\n",
       "      <th>4495</th>\n",
       "      <td>Good productos</td>\n",
       "      <td>Automotive</td>\n",
       "    </tr>\n",
       "    <tr>\n",
       "      <th>4496</th>\n",
       "      <td>Easy to install. Highly re ommended.</td>\n",
       "      <td>Automotive</td>\n",
       "    </tr>\n",
       "    <tr>\n",
       "      <th>4497</th>\n",
       "      <td>Awesome price for such good oil!</td>\n",
       "      <td>Automotive</td>\n",
       "    </tr>\n",
       "    <tr>\n",
       "      <th>4498</th>\n",
       "      <td>High quality CV joint grease. I use this greas...</td>\n",
       "      <td>Automotive</td>\n",
       "    </tr>\n",
       "    <tr>\n",
       "      <th>4499</th>\n",
       "      <td>Well made</td>\n",
       "      <td>Automotive</td>\n",
       "    </tr>\n",
       "  </tbody>\n",
       "</table>\n",
       "</div>"
      ],
      "text/plain": [
       "                                             reviewText    category\n",
       "4495                                     Good productos  Automotive\n",
       "4496               Easy to install. Highly re ommended.  Automotive\n",
       "4497                   Awesome price for such good oil!  Automotive\n",
       "4498  High quality CV joint grease. I use this greas...  Automotive\n",
       "4499                                          Well made  Automotive"
      ]
     },
     "execution_count": 6,
     "metadata": {},
     "output_type": "execute_result"
    }
   ],
   "source": [
    "test_df.tail()"
   ]
  },
  {
   "cell_type": "code",
   "execution_count": 7,
   "id": "e586e748",
   "metadata": {},
   "outputs": [
    {
     "data": {
      "text/plain": [
       "category\n",
       "Automotive           2500\n",
       "Beauty               2500\n",
       "Books                2500\n",
       "Clothing             2500\n",
       "Digital_Music        2500\n",
       "Electronics          2500\n",
       "Grocery              2500\n",
       "Patio_Lawn_Garden    2500\n",
       "Pet_Supplies         2500\n",
       "Name: reviewText, dtype: int64"
      ]
     },
     "execution_count": 7,
     "metadata": {},
     "output_type": "execute_result"
    }
   ],
   "source": [
    "train_df.groupby('category')['reviewText'].count()"
   ]
  },
  {
   "cell_type": "code",
   "execution_count": 8,
   "id": "20068821",
   "metadata": {},
   "outputs": [
    {
     "data": {
      "text/plain": [
       "category\n",
       "Automotive           500\n",
       "Beauty               500\n",
       "Books                500\n",
       "Clothing             500\n",
       "Digital_Music        500\n",
       "Electronics          500\n",
       "Grocery              500\n",
       "Patio_Lawn_Garden    500\n",
       "Pet_Supplies         500\n",
       "Name: reviewText, dtype: int64"
      ]
     },
     "execution_count": 8,
     "metadata": {},
     "output_type": "execute_result"
    }
   ],
   "source": [
    "test_df.groupby('category')['reviewText'].count()"
   ]
  },
  {
   "cell_type": "markdown",
   "id": "6a8ce8d5",
   "metadata": {},
   "source": [
    "The data is perfectly balanced. Let us check if there are some null or blank values."
   ]
  },
  {
   "cell_type": "code",
   "execution_count": 9,
   "id": "5eef57d8",
   "metadata": {},
   "outputs": [
    {
     "data": {
      "text/plain": [
       "0"
      ]
     },
     "execution_count": 9,
     "metadata": {},
     "output_type": "execute_result"
    }
   ],
   "source": [
    "train_df['reviewText'].isna().sum()"
   ]
  },
  {
   "cell_type": "code",
   "execution_count": 10,
   "id": "2b63a347",
   "metadata": {},
   "outputs": [
    {
     "data": {
      "text/plain": [
       "0"
      ]
     },
     "execution_count": 10,
     "metadata": {},
     "output_type": "execute_result"
    }
   ],
   "source": [
    "test_df['reviewText'].isna().sum()"
   ]
  },
  {
   "cell_type": "code",
   "execution_count": 11,
   "id": "dcf78f07",
   "metadata": {},
   "outputs": [
    {
     "data": {
      "text/plain": [
       "0"
      ]
     },
     "execution_count": 11,
     "metadata": {},
     "output_type": "execute_result"
    }
   ],
   "source": [
    "sum(train_df['reviewText']=='')"
   ]
  },
  {
   "cell_type": "code",
   "execution_count": 12,
   "id": "05a3b7f0",
   "metadata": {},
   "outputs": [
    {
     "data": {
      "text/plain": [
       "0"
      ]
     },
     "execution_count": 12,
     "metadata": {},
     "output_type": "execute_result"
    }
   ],
   "source": [
    "sum(test_df['reviewText']=='')"
   ]
  },
  {
   "cell_type": "markdown",
   "id": "f3c790aa",
   "metadata": {},
   "source": [
    "All of the reviews seem to be valid. Now we are going to take some instances from the training data in order to build a validation dataset. We are going to do it in way such as that the datasets remain balanced. After that, we are ready to start the training."
   ]
  },
  {
   "cell_type": "code",
   "execution_count": 13,
   "id": "4eb2d102",
   "metadata": {},
   "outputs": [
    {
     "data": {
      "text/html": [
       "<div>\n",
       "<style scoped>\n",
       "    .dataframe tbody tr th:only-of-type {\n",
       "        vertical-align: middle;\n",
       "    }\n",
       "\n",
       "    .dataframe tbody tr th {\n",
       "        vertical-align: top;\n",
       "    }\n",
       "\n",
       "    .dataframe thead th {\n",
       "        text-align: right;\n",
       "    }\n",
       "</style>\n",
       "<table border=\"1\" class=\"dataframe\">\n",
       "  <thead>\n",
       "    <tr style=\"text-align: right;\">\n",
       "      <th></th>\n",
       "      <th>reviewText</th>\n",
       "      <th>category</th>\n",
       "    </tr>\n",
       "  </thead>\n",
       "  <tbody>\n",
       "    <tr>\n",
       "      <th>3678</th>\n",
       "      <td>Recommended by a friend. It saved my sanity, a...</td>\n",
       "      <td>Patio_Lawn_Garden</td>\n",
       "    </tr>\n",
       "    <tr>\n",
       "      <th>19383</th>\n",
       "      <td>These are products I use regularly and am alwa...</td>\n",
       "      <td>Beauty</td>\n",
       "    </tr>\n",
       "    <tr>\n",
       "      <th>5876</th>\n",
       "      <td>Would have been great, if I received chocolate...</td>\n",
       "      <td>Grocery</td>\n",
       "    </tr>\n",
       "    <tr>\n",
       "      <th>5543</th>\n",
       "      <td>It's Fleischmann's yeast. The best and original.</td>\n",
       "      <td>Grocery</td>\n",
       "    </tr>\n",
       "    <tr>\n",
       "      <th>15190</th>\n",
       "      <td>Sharpe's Fury: Richard Sharpe &amp; the Battle of ...</td>\n",
       "      <td>Books</td>\n",
       "    </tr>\n",
       "  </tbody>\n",
       "</table>\n",
       "</div>"
      ],
      "text/plain": [
       "                                              reviewText           category\n",
       "3678   Recommended by a friend. It saved my sanity, a...  Patio_Lawn_Garden\n",
       "19383  These are products I use regularly and am alwa...             Beauty\n",
       "5876   Would have been great, if I received chocolate...            Grocery\n",
       "5543    It's Fleischmann's yeast. The best and original.            Grocery\n",
       "15190  Sharpe's Fury: Richard Sharpe & the Battle of ...              Books"
      ]
     },
     "execution_count": 13,
     "metadata": {},
     "output_type": "execute_result"
    }
   ],
   "source": [
    "train_df, validation_df = train_test_split(train_df, stratify=train_df['category'], test_size=0.2, random_state=42)\n",
    "train_df.tail()"
   ]
  },
  {
   "cell_type": "code",
   "execution_count": 14,
   "id": "03f435ac",
   "metadata": {},
   "outputs": [
    {
     "data": {
      "text/html": [
       "<div>\n",
       "<style scoped>\n",
       "    .dataframe tbody tr th:only-of-type {\n",
       "        vertical-align: middle;\n",
       "    }\n",
       "\n",
       "    .dataframe tbody tr th {\n",
       "        vertical-align: top;\n",
       "    }\n",
       "\n",
       "    .dataframe thead th {\n",
       "        text-align: right;\n",
       "    }\n",
       "</style>\n",
       "<table border=\"1\" class=\"dataframe\">\n",
       "  <thead>\n",
       "    <tr style=\"text-align: right;\">\n",
       "      <th></th>\n",
       "      <th>reviewText</th>\n",
       "      <th>category</th>\n",
       "    </tr>\n",
       "  </thead>\n",
       "  <tbody>\n",
       "    <tr>\n",
       "      <th>15778</th>\n",
       "      <td>A book about winning (at business) by someone ...</td>\n",
       "      <td>Books</td>\n",
       "    </tr>\n",
       "    <tr>\n",
       "      <th>5848</th>\n",
       "      <td>tasty and a worthy cause</td>\n",
       "      <td>Grocery</td>\n",
       "    </tr>\n",
       "    <tr>\n",
       "      <th>17689</th>\n",
       "      <td>love it...wish I could find the hand lotion!</td>\n",
       "      <td>Beauty</td>\n",
       "    </tr>\n",
       "    <tr>\n",
       "      <th>4394</th>\n",
       "      <td>They eliminated some of the old spray patterns...</td>\n",
       "      <td>Patio_Lawn_Garden</td>\n",
       "    </tr>\n",
       "    <tr>\n",
       "      <th>13001</th>\n",
       "      <td>beautiful backpack.</td>\n",
       "      <td>Clothing</td>\n",
       "    </tr>\n",
       "  </tbody>\n",
       "</table>\n",
       "</div>"
      ],
      "text/plain": [
       "                                              reviewText           category\n",
       "15778  A book about winning (at business) by someone ...              Books\n",
       "5848                            tasty and a worthy cause            Grocery\n",
       "17689       love it...wish I could find the hand lotion!             Beauty\n",
       "4394   They eliminated some of the old spray patterns...  Patio_Lawn_Garden\n",
       "13001                                beautiful backpack.           Clothing"
      ]
     },
     "execution_count": 14,
     "metadata": {},
     "output_type": "execute_result"
    }
   ],
   "source": [
    "validation_df.tail()"
   ]
  },
  {
   "cell_type": "code",
   "execution_count": 15,
   "id": "0592a83d",
   "metadata": {},
   "outputs": [
    {
     "data": {
      "text/plain": [
       "(18000, 2)"
      ]
     },
     "execution_count": 15,
     "metadata": {},
     "output_type": "execute_result"
    }
   ],
   "source": [
    "train_df.shape"
   ]
  },
  {
   "cell_type": "code",
   "execution_count": 16,
   "id": "6d0dd44e",
   "metadata": {},
   "outputs": [
    {
     "data": {
      "text/plain": [
       "(4500, 2)"
      ]
     },
     "execution_count": 16,
     "metadata": {},
     "output_type": "execute_result"
    }
   ],
   "source": [
    "validation_df.shape"
   ]
  },
  {
   "cell_type": "markdown",
   "id": "5a143a3e",
   "metadata": {},
   "source": [
    "## Training the model\n",
    "\n",
    "We are going to use a SVM model with a linear kernel, since it is well known that it works well with NLP. The first technique that we are going to use is the bag of words. We will be starting with the unigram approach and see how it goes.\n",
    "\n",
    "### Bag of words (unigram)\n",
    "\n",
    "Let us start by considering only the presence of the words, instead of its counting."
   ]
  },
  {
   "cell_type": "code",
   "execution_count": 17,
   "id": "b6cbcd69",
   "metadata": {},
   "outputs": [
    {
     "data": {
      "text/html": [
       "<style>#sk-container-id-1 {color: black;}#sk-container-id-1 pre{padding: 0;}#sk-container-id-1 div.sk-toggleable {background-color: white;}#sk-container-id-1 label.sk-toggleable__label {cursor: pointer;display: block;width: 100%;margin-bottom: 0;padding: 0.3em;box-sizing: border-box;text-align: center;}#sk-container-id-1 label.sk-toggleable__label-arrow:before {content: \"▸\";float: left;margin-right: 0.25em;color: #696969;}#sk-container-id-1 label.sk-toggleable__label-arrow:hover:before {color: black;}#sk-container-id-1 div.sk-estimator:hover label.sk-toggleable__label-arrow:before {color: black;}#sk-container-id-1 div.sk-toggleable__content {max-height: 0;max-width: 0;overflow: hidden;text-align: left;background-color: #f0f8ff;}#sk-container-id-1 div.sk-toggleable__content pre {margin: 0.2em;color: black;border-radius: 0.25em;background-color: #f0f8ff;}#sk-container-id-1 input.sk-toggleable__control:checked~div.sk-toggleable__content {max-height: 200px;max-width: 100%;overflow: auto;}#sk-container-id-1 input.sk-toggleable__control:checked~label.sk-toggleable__label-arrow:before {content: \"▾\";}#sk-container-id-1 div.sk-estimator input.sk-toggleable__control:checked~label.sk-toggleable__label {background-color: #d4ebff;}#sk-container-id-1 div.sk-label input.sk-toggleable__control:checked~label.sk-toggleable__label {background-color: #d4ebff;}#sk-container-id-1 input.sk-hidden--visually {border: 0;clip: rect(1px 1px 1px 1px);clip: rect(1px, 1px, 1px, 1px);height: 1px;margin: -1px;overflow: hidden;padding: 0;position: absolute;width: 1px;}#sk-container-id-1 div.sk-estimator {font-family: monospace;background-color: #f0f8ff;border: 1px dotted black;border-radius: 0.25em;box-sizing: border-box;margin-bottom: 0.5em;}#sk-container-id-1 div.sk-estimator:hover {background-color: #d4ebff;}#sk-container-id-1 div.sk-parallel-item::after {content: \"\";width: 100%;border-bottom: 1px solid gray;flex-grow: 1;}#sk-container-id-1 div.sk-label:hover label.sk-toggleable__label {background-color: #d4ebff;}#sk-container-id-1 div.sk-serial::before {content: \"\";position: absolute;border-left: 1px solid gray;box-sizing: border-box;top: 0;bottom: 0;left: 50%;z-index: 0;}#sk-container-id-1 div.sk-serial {display: flex;flex-direction: column;align-items: center;background-color: white;padding-right: 0.2em;padding-left: 0.2em;position: relative;}#sk-container-id-1 div.sk-item {position: relative;z-index: 1;}#sk-container-id-1 div.sk-parallel {display: flex;align-items: stretch;justify-content: center;background-color: white;position: relative;}#sk-container-id-1 div.sk-item::before, #sk-container-id-1 div.sk-parallel-item::before {content: \"\";position: absolute;border-left: 1px solid gray;box-sizing: border-box;top: 0;bottom: 0;left: 50%;z-index: -1;}#sk-container-id-1 div.sk-parallel-item {display: flex;flex-direction: column;z-index: 1;position: relative;background-color: white;}#sk-container-id-1 div.sk-parallel-item:first-child::after {align-self: flex-end;width: 50%;}#sk-container-id-1 div.sk-parallel-item:last-child::after {align-self: flex-start;width: 50%;}#sk-container-id-1 div.sk-parallel-item:only-child::after {width: 0;}#sk-container-id-1 div.sk-dashed-wrapped {border: 1px dashed gray;margin: 0 0.4em 0.5em 0.4em;box-sizing: border-box;padding-bottom: 0.4em;background-color: white;}#sk-container-id-1 div.sk-label label {font-family: monospace;font-weight: bold;display: inline-block;line-height: 1.2em;}#sk-container-id-1 div.sk-label-container {text-align: center;}#sk-container-id-1 div.sk-container {/* jupyter's `normalize.less` sets `[hidden] { display: none; }` but bootstrap.min.css set `[hidden] { display: none !important; }` so we also need the `!important` here to be able to override the default hidden behavior on the sphinx rendered scikit-learn.org. See: https://github.com/scikit-learn/scikit-learn/issues/21755 */display: inline-block !important;position: relative;}#sk-container-id-1 div.sk-text-repr-fallback {display: none;}</style><div id=\"sk-container-id-1\" class=\"sk-top-container\"><div class=\"sk-text-repr-fallback\"><pre>SVC(kernel=&#x27;linear&#x27;, random_state=1234)</pre><b>In a Jupyter environment, please rerun this cell to show the HTML representation or trust the notebook. <br />On GitHub, the HTML representation is unable to render, please try loading this page with nbviewer.org.</b></div><div class=\"sk-container\" hidden><div class=\"sk-item\"><div class=\"sk-estimator sk-toggleable\"><input class=\"sk-toggleable__control sk-hidden--visually\" id=\"sk-estimator-id-1\" type=\"checkbox\" checked><label for=\"sk-estimator-id-1\" class=\"sk-toggleable__label sk-toggleable__label-arrow\">SVC</label><div class=\"sk-toggleable__content\"><pre>SVC(kernel=&#x27;linear&#x27;, random_state=1234)</pre></div></div></div></div></div>"
      ],
      "text/plain": [
       "SVC(kernel='linear', random_state=1234)"
      ]
     },
     "execution_count": 17,
     "metadata": {},
     "output_type": "execute_result"
    }
   ],
   "source": [
    "vectorizer = CountVectorizer(binary=True)\n",
    "train_x = vectorizer.fit_transform(train_df['reviewText'])\n",
    "train_y = train_df['category']\n",
    "\n",
    "clf = svm.SVC(kernel='linear', random_state=1234)\n",
    "clf.fit(train_x, train_y)"
   ]
  },
  {
   "cell_type": "code",
   "execution_count": 18,
   "id": "b7f487c0",
   "metadata": {},
   "outputs": [
    {
     "data": {
      "text/plain": [
       "0.6495555555555556"
      ]
     },
     "execution_count": 18,
     "metadata": {},
     "output_type": "execute_result"
    }
   ],
   "source": [
    "validation_x = vectorizer.transform(validation_df['reviewText'])\n",
    "validation_y = validation_df['category']\n",
    "pred = clf.predict(validation_x)\n",
    "\n",
    "accuracy_score(validation_y, pred)"
   ]
  },
  {
   "cell_type": "markdown",
   "id": "c7ac1290",
   "metadata": {},
   "source": [
    "We have got an accuracy of 0.65. Let us try with the words counting."
   ]
  },
  {
   "cell_type": "code",
   "execution_count": 19,
   "id": "b6a15dd4",
   "metadata": {},
   "outputs": [
    {
     "data": {
      "text/html": [
       "<style>#sk-container-id-2 {color: black;}#sk-container-id-2 pre{padding: 0;}#sk-container-id-2 div.sk-toggleable {background-color: white;}#sk-container-id-2 label.sk-toggleable__label {cursor: pointer;display: block;width: 100%;margin-bottom: 0;padding: 0.3em;box-sizing: border-box;text-align: center;}#sk-container-id-2 label.sk-toggleable__label-arrow:before {content: \"▸\";float: left;margin-right: 0.25em;color: #696969;}#sk-container-id-2 label.sk-toggleable__label-arrow:hover:before {color: black;}#sk-container-id-2 div.sk-estimator:hover label.sk-toggleable__label-arrow:before {color: black;}#sk-container-id-2 div.sk-toggleable__content {max-height: 0;max-width: 0;overflow: hidden;text-align: left;background-color: #f0f8ff;}#sk-container-id-2 div.sk-toggleable__content pre {margin: 0.2em;color: black;border-radius: 0.25em;background-color: #f0f8ff;}#sk-container-id-2 input.sk-toggleable__control:checked~div.sk-toggleable__content {max-height: 200px;max-width: 100%;overflow: auto;}#sk-container-id-2 input.sk-toggleable__control:checked~label.sk-toggleable__label-arrow:before {content: \"▾\";}#sk-container-id-2 div.sk-estimator input.sk-toggleable__control:checked~label.sk-toggleable__label {background-color: #d4ebff;}#sk-container-id-2 div.sk-label input.sk-toggleable__control:checked~label.sk-toggleable__label {background-color: #d4ebff;}#sk-container-id-2 input.sk-hidden--visually {border: 0;clip: rect(1px 1px 1px 1px);clip: rect(1px, 1px, 1px, 1px);height: 1px;margin: -1px;overflow: hidden;padding: 0;position: absolute;width: 1px;}#sk-container-id-2 div.sk-estimator {font-family: monospace;background-color: #f0f8ff;border: 1px dotted black;border-radius: 0.25em;box-sizing: border-box;margin-bottom: 0.5em;}#sk-container-id-2 div.sk-estimator:hover {background-color: #d4ebff;}#sk-container-id-2 div.sk-parallel-item::after {content: \"\";width: 100%;border-bottom: 1px solid gray;flex-grow: 1;}#sk-container-id-2 div.sk-label:hover label.sk-toggleable__label {background-color: #d4ebff;}#sk-container-id-2 div.sk-serial::before {content: \"\";position: absolute;border-left: 1px solid gray;box-sizing: border-box;top: 0;bottom: 0;left: 50%;z-index: 0;}#sk-container-id-2 div.sk-serial {display: flex;flex-direction: column;align-items: center;background-color: white;padding-right: 0.2em;padding-left: 0.2em;position: relative;}#sk-container-id-2 div.sk-item {position: relative;z-index: 1;}#sk-container-id-2 div.sk-parallel {display: flex;align-items: stretch;justify-content: center;background-color: white;position: relative;}#sk-container-id-2 div.sk-item::before, #sk-container-id-2 div.sk-parallel-item::before {content: \"\";position: absolute;border-left: 1px solid gray;box-sizing: border-box;top: 0;bottom: 0;left: 50%;z-index: -1;}#sk-container-id-2 div.sk-parallel-item {display: flex;flex-direction: column;z-index: 1;position: relative;background-color: white;}#sk-container-id-2 div.sk-parallel-item:first-child::after {align-self: flex-end;width: 50%;}#sk-container-id-2 div.sk-parallel-item:last-child::after {align-self: flex-start;width: 50%;}#sk-container-id-2 div.sk-parallel-item:only-child::after {width: 0;}#sk-container-id-2 div.sk-dashed-wrapped {border: 1px dashed gray;margin: 0 0.4em 0.5em 0.4em;box-sizing: border-box;padding-bottom: 0.4em;background-color: white;}#sk-container-id-2 div.sk-label label {font-family: monospace;font-weight: bold;display: inline-block;line-height: 1.2em;}#sk-container-id-2 div.sk-label-container {text-align: center;}#sk-container-id-2 div.sk-container {/* jupyter's `normalize.less` sets `[hidden] { display: none; }` but bootstrap.min.css set `[hidden] { display: none !important; }` so we also need the `!important` here to be able to override the default hidden behavior on the sphinx rendered scikit-learn.org. See: https://github.com/scikit-learn/scikit-learn/issues/21755 */display: inline-block !important;position: relative;}#sk-container-id-2 div.sk-text-repr-fallback {display: none;}</style><div id=\"sk-container-id-2\" class=\"sk-top-container\"><div class=\"sk-text-repr-fallback\"><pre>SVC(kernel=&#x27;linear&#x27;, random_state=1234)</pre><b>In a Jupyter environment, please rerun this cell to show the HTML representation or trust the notebook. <br />On GitHub, the HTML representation is unable to render, please try loading this page with nbviewer.org.</b></div><div class=\"sk-container\" hidden><div class=\"sk-item\"><div class=\"sk-estimator sk-toggleable\"><input class=\"sk-toggleable__control sk-hidden--visually\" id=\"sk-estimator-id-2\" type=\"checkbox\" checked><label for=\"sk-estimator-id-2\" class=\"sk-toggleable__label sk-toggleable__label-arrow\">SVC</label><div class=\"sk-toggleable__content\"><pre>SVC(kernel=&#x27;linear&#x27;, random_state=1234)</pre></div></div></div></div></div>"
      ],
      "text/plain": [
       "SVC(kernel='linear', random_state=1234)"
      ]
     },
     "execution_count": 19,
     "metadata": {},
     "output_type": "execute_result"
    }
   ],
   "source": [
    "vectorizer = CountVectorizer()\n",
    "train_x = vectorizer.fit_transform(train_df['reviewText'])\n",
    "train_y = train_df['category']\n",
    "\n",
    "clf = svm.SVC(kernel='linear', random_state=1234)\n",
    "clf.fit(train_x, train_y)"
   ]
  },
  {
   "cell_type": "code",
   "execution_count": 20,
   "id": "5b292768",
   "metadata": {},
   "outputs": [
    {
     "data": {
      "text/plain": [
       "0.6531111111111111"
      ]
     },
     "execution_count": 20,
     "metadata": {},
     "output_type": "execute_result"
    }
   ],
   "source": [
    "validation_x = vectorizer.transform(validation_df['reviewText'])\n",
    "validation_y = validation_df['category']\n",
    "pred = clf.predict(validation_x)\n",
    "\n",
    "accuracy_score(validation_y, pred)"
   ]
  },
  {
   "cell_type": "markdown",
   "id": "e733b771",
   "metadata": {},
   "source": [
    "The accuracy barely changed. Let us try now with bigrams.\n",
    "\n",
    "### Bag of words (bigrams)\n"
   ]
  },
  {
   "cell_type": "code",
   "execution_count": 21,
   "id": "ff7fb97d",
   "metadata": {},
   "outputs": [
    {
     "data": {
      "text/html": [
       "<style>#sk-container-id-3 {color: black;}#sk-container-id-3 pre{padding: 0;}#sk-container-id-3 div.sk-toggleable {background-color: white;}#sk-container-id-3 label.sk-toggleable__label {cursor: pointer;display: block;width: 100%;margin-bottom: 0;padding: 0.3em;box-sizing: border-box;text-align: center;}#sk-container-id-3 label.sk-toggleable__label-arrow:before {content: \"▸\";float: left;margin-right: 0.25em;color: #696969;}#sk-container-id-3 label.sk-toggleable__label-arrow:hover:before {color: black;}#sk-container-id-3 div.sk-estimator:hover label.sk-toggleable__label-arrow:before {color: black;}#sk-container-id-3 div.sk-toggleable__content {max-height: 0;max-width: 0;overflow: hidden;text-align: left;background-color: #f0f8ff;}#sk-container-id-3 div.sk-toggleable__content pre {margin: 0.2em;color: black;border-radius: 0.25em;background-color: #f0f8ff;}#sk-container-id-3 input.sk-toggleable__control:checked~div.sk-toggleable__content {max-height: 200px;max-width: 100%;overflow: auto;}#sk-container-id-3 input.sk-toggleable__control:checked~label.sk-toggleable__label-arrow:before {content: \"▾\";}#sk-container-id-3 div.sk-estimator input.sk-toggleable__control:checked~label.sk-toggleable__label {background-color: #d4ebff;}#sk-container-id-3 div.sk-label input.sk-toggleable__control:checked~label.sk-toggleable__label {background-color: #d4ebff;}#sk-container-id-3 input.sk-hidden--visually {border: 0;clip: rect(1px 1px 1px 1px);clip: rect(1px, 1px, 1px, 1px);height: 1px;margin: -1px;overflow: hidden;padding: 0;position: absolute;width: 1px;}#sk-container-id-3 div.sk-estimator {font-family: monospace;background-color: #f0f8ff;border: 1px dotted black;border-radius: 0.25em;box-sizing: border-box;margin-bottom: 0.5em;}#sk-container-id-3 div.sk-estimator:hover {background-color: #d4ebff;}#sk-container-id-3 div.sk-parallel-item::after {content: \"\";width: 100%;border-bottom: 1px solid gray;flex-grow: 1;}#sk-container-id-3 div.sk-label:hover label.sk-toggleable__label {background-color: #d4ebff;}#sk-container-id-3 div.sk-serial::before {content: \"\";position: absolute;border-left: 1px solid gray;box-sizing: border-box;top: 0;bottom: 0;left: 50%;z-index: 0;}#sk-container-id-3 div.sk-serial {display: flex;flex-direction: column;align-items: center;background-color: white;padding-right: 0.2em;padding-left: 0.2em;position: relative;}#sk-container-id-3 div.sk-item {position: relative;z-index: 1;}#sk-container-id-3 div.sk-parallel {display: flex;align-items: stretch;justify-content: center;background-color: white;position: relative;}#sk-container-id-3 div.sk-item::before, #sk-container-id-3 div.sk-parallel-item::before {content: \"\";position: absolute;border-left: 1px solid gray;box-sizing: border-box;top: 0;bottom: 0;left: 50%;z-index: -1;}#sk-container-id-3 div.sk-parallel-item {display: flex;flex-direction: column;z-index: 1;position: relative;background-color: white;}#sk-container-id-3 div.sk-parallel-item:first-child::after {align-self: flex-end;width: 50%;}#sk-container-id-3 div.sk-parallel-item:last-child::after {align-self: flex-start;width: 50%;}#sk-container-id-3 div.sk-parallel-item:only-child::after {width: 0;}#sk-container-id-3 div.sk-dashed-wrapped {border: 1px dashed gray;margin: 0 0.4em 0.5em 0.4em;box-sizing: border-box;padding-bottom: 0.4em;background-color: white;}#sk-container-id-3 div.sk-label label {font-family: monospace;font-weight: bold;display: inline-block;line-height: 1.2em;}#sk-container-id-3 div.sk-label-container {text-align: center;}#sk-container-id-3 div.sk-container {/* jupyter's `normalize.less` sets `[hidden] { display: none; }` but bootstrap.min.css set `[hidden] { display: none !important; }` so we also need the `!important` here to be able to override the default hidden behavior on the sphinx rendered scikit-learn.org. See: https://github.com/scikit-learn/scikit-learn/issues/21755 */display: inline-block !important;position: relative;}#sk-container-id-3 div.sk-text-repr-fallback {display: none;}</style><div id=\"sk-container-id-3\" class=\"sk-top-container\"><div class=\"sk-text-repr-fallback\"><pre>SVC(kernel=&#x27;linear&#x27;, random_state=1234)</pre><b>In a Jupyter environment, please rerun this cell to show the HTML representation or trust the notebook. <br />On GitHub, the HTML representation is unable to render, please try loading this page with nbviewer.org.</b></div><div class=\"sk-container\" hidden><div class=\"sk-item\"><div class=\"sk-estimator sk-toggleable\"><input class=\"sk-toggleable__control sk-hidden--visually\" id=\"sk-estimator-id-3\" type=\"checkbox\" checked><label for=\"sk-estimator-id-3\" class=\"sk-toggleable__label sk-toggleable__label-arrow\">SVC</label><div class=\"sk-toggleable__content\"><pre>SVC(kernel=&#x27;linear&#x27;, random_state=1234)</pre></div></div></div></div></div>"
      ],
      "text/plain": [
       "SVC(kernel='linear', random_state=1234)"
      ]
     },
     "execution_count": 21,
     "metadata": {},
     "output_type": "execute_result"
    }
   ],
   "source": [
    "vectorizer = CountVectorizer(binary=True, ngram_range=(1,2))\n",
    "train_x = vectorizer.fit_transform(train_df['reviewText'])\n",
    "train_y = train_df['category']\n",
    "\n",
    "clf = svm.SVC(kernel='linear', random_state=1234)\n",
    "clf.fit(train_x, train_y)"
   ]
  },
  {
   "cell_type": "code",
   "execution_count": 22,
   "id": "52deaa10",
   "metadata": {},
   "outputs": [
    {
     "data": {
      "text/plain": [
       "0.6131111111111112"
      ]
     },
     "execution_count": 22,
     "metadata": {},
     "output_type": "execute_result"
    }
   ],
   "source": [
    "validation_x = vectorizer.transform(validation_df['reviewText'])\n",
    "validation_y = validation_df['category']\n",
    "pred = clf.predict(validation_x)\n",
    "\n",
    "accuracy_score(validation_y, pred)"
   ]
  },
  {
   "cell_type": "markdown",
   "id": "dc6f2a58",
   "metadata": {},
   "source": [
    "We have got an even worse accuracy. Not let us try again with the counting, even though the results are probably going to be very similar."
   ]
  },
  {
   "cell_type": "code",
   "execution_count": 23,
   "id": "87f047a7",
   "metadata": {},
   "outputs": [
    {
     "data": {
      "text/html": [
       "<style>#sk-container-id-4 {color: black;}#sk-container-id-4 pre{padding: 0;}#sk-container-id-4 div.sk-toggleable {background-color: white;}#sk-container-id-4 label.sk-toggleable__label {cursor: pointer;display: block;width: 100%;margin-bottom: 0;padding: 0.3em;box-sizing: border-box;text-align: center;}#sk-container-id-4 label.sk-toggleable__label-arrow:before {content: \"▸\";float: left;margin-right: 0.25em;color: #696969;}#sk-container-id-4 label.sk-toggleable__label-arrow:hover:before {color: black;}#sk-container-id-4 div.sk-estimator:hover label.sk-toggleable__label-arrow:before {color: black;}#sk-container-id-4 div.sk-toggleable__content {max-height: 0;max-width: 0;overflow: hidden;text-align: left;background-color: #f0f8ff;}#sk-container-id-4 div.sk-toggleable__content pre {margin: 0.2em;color: black;border-radius: 0.25em;background-color: #f0f8ff;}#sk-container-id-4 input.sk-toggleable__control:checked~div.sk-toggleable__content {max-height: 200px;max-width: 100%;overflow: auto;}#sk-container-id-4 input.sk-toggleable__control:checked~label.sk-toggleable__label-arrow:before {content: \"▾\";}#sk-container-id-4 div.sk-estimator input.sk-toggleable__control:checked~label.sk-toggleable__label {background-color: #d4ebff;}#sk-container-id-4 div.sk-label input.sk-toggleable__control:checked~label.sk-toggleable__label {background-color: #d4ebff;}#sk-container-id-4 input.sk-hidden--visually {border: 0;clip: rect(1px 1px 1px 1px);clip: rect(1px, 1px, 1px, 1px);height: 1px;margin: -1px;overflow: hidden;padding: 0;position: absolute;width: 1px;}#sk-container-id-4 div.sk-estimator {font-family: monospace;background-color: #f0f8ff;border: 1px dotted black;border-radius: 0.25em;box-sizing: border-box;margin-bottom: 0.5em;}#sk-container-id-4 div.sk-estimator:hover {background-color: #d4ebff;}#sk-container-id-4 div.sk-parallel-item::after {content: \"\";width: 100%;border-bottom: 1px solid gray;flex-grow: 1;}#sk-container-id-4 div.sk-label:hover label.sk-toggleable__label {background-color: #d4ebff;}#sk-container-id-4 div.sk-serial::before {content: \"\";position: absolute;border-left: 1px solid gray;box-sizing: border-box;top: 0;bottom: 0;left: 50%;z-index: 0;}#sk-container-id-4 div.sk-serial {display: flex;flex-direction: column;align-items: center;background-color: white;padding-right: 0.2em;padding-left: 0.2em;position: relative;}#sk-container-id-4 div.sk-item {position: relative;z-index: 1;}#sk-container-id-4 div.sk-parallel {display: flex;align-items: stretch;justify-content: center;background-color: white;position: relative;}#sk-container-id-4 div.sk-item::before, #sk-container-id-4 div.sk-parallel-item::before {content: \"\";position: absolute;border-left: 1px solid gray;box-sizing: border-box;top: 0;bottom: 0;left: 50%;z-index: -1;}#sk-container-id-4 div.sk-parallel-item {display: flex;flex-direction: column;z-index: 1;position: relative;background-color: white;}#sk-container-id-4 div.sk-parallel-item:first-child::after {align-self: flex-end;width: 50%;}#sk-container-id-4 div.sk-parallel-item:last-child::after {align-self: flex-start;width: 50%;}#sk-container-id-4 div.sk-parallel-item:only-child::after {width: 0;}#sk-container-id-4 div.sk-dashed-wrapped {border: 1px dashed gray;margin: 0 0.4em 0.5em 0.4em;box-sizing: border-box;padding-bottom: 0.4em;background-color: white;}#sk-container-id-4 div.sk-label label {font-family: monospace;font-weight: bold;display: inline-block;line-height: 1.2em;}#sk-container-id-4 div.sk-label-container {text-align: center;}#sk-container-id-4 div.sk-container {/* jupyter's `normalize.less` sets `[hidden] { display: none; }` but bootstrap.min.css set `[hidden] { display: none !important; }` so we also need the `!important` here to be able to override the default hidden behavior on the sphinx rendered scikit-learn.org. See: https://github.com/scikit-learn/scikit-learn/issues/21755 */display: inline-block !important;position: relative;}#sk-container-id-4 div.sk-text-repr-fallback {display: none;}</style><div id=\"sk-container-id-4\" class=\"sk-top-container\"><div class=\"sk-text-repr-fallback\"><pre>SVC(kernel=&#x27;linear&#x27;, random_state=1234)</pre><b>In a Jupyter environment, please rerun this cell to show the HTML representation or trust the notebook. <br />On GitHub, the HTML representation is unable to render, please try loading this page with nbviewer.org.</b></div><div class=\"sk-container\" hidden><div class=\"sk-item\"><div class=\"sk-estimator sk-toggleable\"><input class=\"sk-toggleable__control sk-hidden--visually\" id=\"sk-estimator-id-4\" type=\"checkbox\" checked><label for=\"sk-estimator-id-4\" class=\"sk-toggleable__label sk-toggleable__label-arrow\">SVC</label><div class=\"sk-toggleable__content\"><pre>SVC(kernel=&#x27;linear&#x27;, random_state=1234)</pre></div></div></div></div></div>"
      ],
      "text/plain": [
       "SVC(kernel='linear', random_state=1234)"
      ]
     },
     "execution_count": 23,
     "metadata": {},
     "output_type": "execute_result"
    }
   ],
   "source": [
    "vectorizer = CountVectorizer(ngram_range=(1,2))\n",
    "train_x = vectorizer.fit_transform(train_df['reviewText'])\n",
    "train_y = train_df['category']\n",
    "\n",
    "clf = svm.SVC(kernel='linear', random_state=1234)\n",
    "clf.fit(train_x, train_y)"
   ]
  },
  {
   "cell_type": "code",
   "execution_count": 24,
   "id": "d30128f3",
   "metadata": {},
   "outputs": [
    {
     "data": {
      "text/plain": [
       "0.62"
      ]
     },
     "execution_count": 24,
     "metadata": {},
     "output_type": "execute_result"
    }
   ],
   "source": [
    "validation_x = vectorizer.transform(validation_df['reviewText'])\n",
    "validation_y = validation_df['category']\n",
    "pred = clf.predict(validation_x)\n",
    "\n",
    "accuracy_score(validation_y, pred)"
   ]
  },
  {
   "cell_type": "markdown",
   "id": "3289ff0d",
   "metadata": {},
   "source": [
    "As expected, the accuracy didn't change as much. Let us try a different technique now. We will be using the word vectors approach, which is explained [here](https://towardsdatascience.com/word-vectors-and-word-meaning-90493d13af76). We are going to use a pre trained model from the spacy package.\n",
    "\n",
    "### Word vectors\n",
    "\n",
    "First, we need to get an english trained model, we are going to start with a mid size model and see how it works. Then we are going to get the reviews representation and train our SVM model."
   ]
  },
  {
   "cell_type": "code",
   "execution_count": 25,
   "id": "2996d0d8",
   "metadata": {},
   "outputs": [
    {
     "data": {
      "text/html": [
       "<style>#sk-container-id-5 {color: black;}#sk-container-id-5 pre{padding: 0;}#sk-container-id-5 div.sk-toggleable {background-color: white;}#sk-container-id-5 label.sk-toggleable__label {cursor: pointer;display: block;width: 100%;margin-bottom: 0;padding: 0.3em;box-sizing: border-box;text-align: center;}#sk-container-id-5 label.sk-toggleable__label-arrow:before {content: \"▸\";float: left;margin-right: 0.25em;color: #696969;}#sk-container-id-5 label.sk-toggleable__label-arrow:hover:before {color: black;}#sk-container-id-5 div.sk-estimator:hover label.sk-toggleable__label-arrow:before {color: black;}#sk-container-id-5 div.sk-toggleable__content {max-height: 0;max-width: 0;overflow: hidden;text-align: left;background-color: #f0f8ff;}#sk-container-id-5 div.sk-toggleable__content pre {margin: 0.2em;color: black;border-radius: 0.25em;background-color: #f0f8ff;}#sk-container-id-5 input.sk-toggleable__control:checked~div.sk-toggleable__content {max-height: 200px;max-width: 100%;overflow: auto;}#sk-container-id-5 input.sk-toggleable__control:checked~label.sk-toggleable__label-arrow:before {content: \"▾\";}#sk-container-id-5 div.sk-estimator input.sk-toggleable__control:checked~label.sk-toggleable__label {background-color: #d4ebff;}#sk-container-id-5 div.sk-label input.sk-toggleable__control:checked~label.sk-toggleable__label {background-color: #d4ebff;}#sk-container-id-5 input.sk-hidden--visually {border: 0;clip: rect(1px 1px 1px 1px);clip: rect(1px, 1px, 1px, 1px);height: 1px;margin: -1px;overflow: hidden;padding: 0;position: absolute;width: 1px;}#sk-container-id-5 div.sk-estimator {font-family: monospace;background-color: #f0f8ff;border: 1px dotted black;border-radius: 0.25em;box-sizing: border-box;margin-bottom: 0.5em;}#sk-container-id-5 div.sk-estimator:hover {background-color: #d4ebff;}#sk-container-id-5 div.sk-parallel-item::after {content: \"\";width: 100%;border-bottom: 1px solid gray;flex-grow: 1;}#sk-container-id-5 div.sk-label:hover label.sk-toggleable__label {background-color: #d4ebff;}#sk-container-id-5 div.sk-serial::before {content: \"\";position: absolute;border-left: 1px solid gray;box-sizing: border-box;top: 0;bottom: 0;left: 50%;z-index: 0;}#sk-container-id-5 div.sk-serial {display: flex;flex-direction: column;align-items: center;background-color: white;padding-right: 0.2em;padding-left: 0.2em;position: relative;}#sk-container-id-5 div.sk-item {position: relative;z-index: 1;}#sk-container-id-5 div.sk-parallel {display: flex;align-items: stretch;justify-content: center;background-color: white;position: relative;}#sk-container-id-5 div.sk-item::before, #sk-container-id-5 div.sk-parallel-item::before {content: \"\";position: absolute;border-left: 1px solid gray;box-sizing: border-box;top: 0;bottom: 0;left: 50%;z-index: -1;}#sk-container-id-5 div.sk-parallel-item {display: flex;flex-direction: column;z-index: 1;position: relative;background-color: white;}#sk-container-id-5 div.sk-parallel-item:first-child::after {align-self: flex-end;width: 50%;}#sk-container-id-5 div.sk-parallel-item:last-child::after {align-self: flex-start;width: 50%;}#sk-container-id-5 div.sk-parallel-item:only-child::after {width: 0;}#sk-container-id-5 div.sk-dashed-wrapped {border: 1px dashed gray;margin: 0 0.4em 0.5em 0.4em;box-sizing: border-box;padding-bottom: 0.4em;background-color: white;}#sk-container-id-5 div.sk-label label {font-family: monospace;font-weight: bold;display: inline-block;line-height: 1.2em;}#sk-container-id-5 div.sk-label-container {text-align: center;}#sk-container-id-5 div.sk-container {/* jupyter's `normalize.less` sets `[hidden] { display: none; }` but bootstrap.min.css set `[hidden] { display: none !important; }` so we also need the `!important` here to be able to override the default hidden behavior on the sphinx rendered scikit-learn.org. See: https://github.com/scikit-learn/scikit-learn/issues/21755 */display: inline-block !important;position: relative;}#sk-container-id-5 div.sk-text-repr-fallback {display: none;}</style><div id=\"sk-container-id-5\" class=\"sk-top-container\"><div class=\"sk-text-repr-fallback\"><pre>SVC(kernel=&#x27;linear&#x27;, random_state=1234)</pre><b>In a Jupyter environment, please rerun this cell to show the HTML representation or trust the notebook. <br />On GitHub, the HTML representation is unable to render, please try loading this page with nbviewer.org.</b></div><div class=\"sk-container\" hidden><div class=\"sk-item\"><div class=\"sk-estimator sk-toggleable\"><input class=\"sk-toggleable__control sk-hidden--visually\" id=\"sk-estimator-id-5\" type=\"checkbox\" checked><label for=\"sk-estimator-id-5\" class=\"sk-toggleable__label sk-toggleable__label-arrow\">SVC</label><div class=\"sk-toggleable__content\"><pre>SVC(kernel=&#x27;linear&#x27;, random_state=1234)</pre></div></div></div></div></div>"
      ],
      "text/plain": [
       "SVC(kernel='linear', random_state=1234)"
      ]
     },
     "execution_count": 25,
     "metadata": {},
     "output_type": "execute_result"
    }
   ],
   "source": [
    "nlp = spacy.load(\"en_core_web_md\")\n",
    "train_x = train_df['reviewText'].apply(lambda x: nlp(x).vector)\n",
    "train_y = train_df['category']\n",
    "\n",
    "clf = svm.SVC(kernel='linear', random_state=1234)\n",
    "clf.fit(list(train_x), train_y)"
   ]
  },
  {
   "cell_type": "code",
   "execution_count": 26,
   "id": "514133b8",
   "metadata": {},
   "outputs": [
    {
     "data": {
      "text/plain": [
       "0.6828888888888889"
      ]
     },
     "execution_count": 26,
     "metadata": {},
     "output_type": "execute_result"
    }
   ],
   "source": [
    "validation_x = validation_df['reviewText'].apply(lambda x: nlp(x).vector)\n",
    "validation_y = validation_df['category']\n",
    "pred = clf.predict(list(validation_x))\n",
    "\n",
    "accuracy_score(validation_y, pred)"
   ]
  },
  {
   "cell_type": "markdown",
   "id": "14f8a9f0",
   "metadata": {},
   "source": [
    "The accuracy improved, getting a little higher than 0.68. Let us try with a large model."
   ]
  },
  {
   "cell_type": "code",
   "execution_count": 27,
   "id": "2467bf6b",
   "metadata": {},
   "outputs": [
    {
     "data": {
      "text/html": [
       "<style>#sk-container-id-6 {color: black;}#sk-container-id-6 pre{padding: 0;}#sk-container-id-6 div.sk-toggleable {background-color: white;}#sk-container-id-6 label.sk-toggleable__label {cursor: pointer;display: block;width: 100%;margin-bottom: 0;padding: 0.3em;box-sizing: border-box;text-align: center;}#sk-container-id-6 label.sk-toggleable__label-arrow:before {content: \"▸\";float: left;margin-right: 0.25em;color: #696969;}#sk-container-id-6 label.sk-toggleable__label-arrow:hover:before {color: black;}#sk-container-id-6 div.sk-estimator:hover label.sk-toggleable__label-arrow:before {color: black;}#sk-container-id-6 div.sk-toggleable__content {max-height: 0;max-width: 0;overflow: hidden;text-align: left;background-color: #f0f8ff;}#sk-container-id-6 div.sk-toggleable__content pre {margin: 0.2em;color: black;border-radius: 0.25em;background-color: #f0f8ff;}#sk-container-id-6 input.sk-toggleable__control:checked~div.sk-toggleable__content {max-height: 200px;max-width: 100%;overflow: auto;}#sk-container-id-6 input.sk-toggleable__control:checked~label.sk-toggleable__label-arrow:before {content: \"▾\";}#sk-container-id-6 div.sk-estimator input.sk-toggleable__control:checked~label.sk-toggleable__label {background-color: #d4ebff;}#sk-container-id-6 div.sk-label input.sk-toggleable__control:checked~label.sk-toggleable__label {background-color: #d4ebff;}#sk-container-id-6 input.sk-hidden--visually {border: 0;clip: rect(1px 1px 1px 1px);clip: rect(1px, 1px, 1px, 1px);height: 1px;margin: -1px;overflow: hidden;padding: 0;position: absolute;width: 1px;}#sk-container-id-6 div.sk-estimator {font-family: monospace;background-color: #f0f8ff;border: 1px dotted black;border-radius: 0.25em;box-sizing: border-box;margin-bottom: 0.5em;}#sk-container-id-6 div.sk-estimator:hover {background-color: #d4ebff;}#sk-container-id-6 div.sk-parallel-item::after {content: \"\";width: 100%;border-bottom: 1px solid gray;flex-grow: 1;}#sk-container-id-6 div.sk-label:hover label.sk-toggleable__label {background-color: #d4ebff;}#sk-container-id-6 div.sk-serial::before {content: \"\";position: absolute;border-left: 1px solid gray;box-sizing: border-box;top: 0;bottom: 0;left: 50%;z-index: 0;}#sk-container-id-6 div.sk-serial {display: flex;flex-direction: column;align-items: center;background-color: white;padding-right: 0.2em;padding-left: 0.2em;position: relative;}#sk-container-id-6 div.sk-item {position: relative;z-index: 1;}#sk-container-id-6 div.sk-parallel {display: flex;align-items: stretch;justify-content: center;background-color: white;position: relative;}#sk-container-id-6 div.sk-item::before, #sk-container-id-6 div.sk-parallel-item::before {content: \"\";position: absolute;border-left: 1px solid gray;box-sizing: border-box;top: 0;bottom: 0;left: 50%;z-index: -1;}#sk-container-id-6 div.sk-parallel-item {display: flex;flex-direction: column;z-index: 1;position: relative;background-color: white;}#sk-container-id-6 div.sk-parallel-item:first-child::after {align-self: flex-end;width: 50%;}#sk-container-id-6 div.sk-parallel-item:last-child::after {align-self: flex-start;width: 50%;}#sk-container-id-6 div.sk-parallel-item:only-child::after {width: 0;}#sk-container-id-6 div.sk-dashed-wrapped {border: 1px dashed gray;margin: 0 0.4em 0.5em 0.4em;box-sizing: border-box;padding-bottom: 0.4em;background-color: white;}#sk-container-id-6 div.sk-label label {font-family: monospace;font-weight: bold;display: inline-block;line-height: 1.2em;}#sk-container-id-6 div.sk-label-container {text-align: center;}#sk-container-id-6 div.sk-container {/* jupyter's `normalize.less` sets `[hidden] { display: none; }` but bootstrap.min.css set `[hidden] { display: none !important; }` so we also need the `!important` here to be able to override the default hidden behavior on the sphinx rendered scikit-learn.org. See: https://github.com/scikit-learn/scikit-learn/issues/21755 */display: inline-block !important;position: relative;}#sk-container-id-6 div.sk-text-repr-fallback {display: none;}</style><div id=\"sk-container-id-6\" class=\"sk-top-container\"><div class=\"sk-text-repr-fallback\"><pre>SVC(kernel=&#x27;linear&#x27;, random_state=1234)</pre><b>In a Jupyter environment, please rerun this cell to show the HTML representation or trust the notebook. <br />On GitHub, the HTML representation is unable to render, please try loading this page with nbviewer.org.</b></div><div class=\"sk-container\" hidden><div class=\"sk-item\"><div class=\"sk-estimator sk-toggleable\"><input class=\"sk-toggleable__control sk-hidden--visually\" id=\"sk-estimator-id-6\" type=\"checkbox\" checked><label for=\"sk-estimator-id-6\" class=\"sk-toggleable__label sk-toggleable__label-arrow\">SVC</label><div class=\"sk-toggleable__content\"><pre>SVC(kernel=&#x27;linear&#x27;, random_state=1234)</pre></div></div></div></div></div>"
      ],
      "text/plain": [
       "SVC(kernel='linear', random_state=1234)"
      ]
     },
     "execution_count": 27,
     "metadata": {},
     "output_type": "execute_result"
    }
   ],
   "source": [
    "nlp = spacy.load(\"en_core_web_lg\")\n",
    "train_x = train_df['reviewText'].apply(lambda x: nlp(x).vector)\n",
    "train_y = train_df['category']\n",
    "\n",
    "clf = svm.SVC(kernel='linear', random_state=1234)\n",
    "clf.fit(list(train_x), train_y)"
   ]
  },
  {
   "cell_type": "code",
   "execution_count": 28,
   "id": "2a4af68d",
   "metadata": {},
   "outputs": [
    {
     "data": {
      "text/plain": [
       "0.6873333333333334"
      ]
     },
     "execution_count": 28,
     "metadata": {},
     "output_type": "execute_result"
    }
   ],
   "source": [
    "validation_x = validation_df['reviewText'].apply(lambda x: nlp(x).vector)\n",
    "validation_y = validation_df['category']\n",
    "pred = clf.predict(list(validation_x))\n",
    "\n",
    "accuracy_score(validation_y, pred)"
   ]
  },
  {
   "cell_type": "markdown",
   "id": "72258c66",
   "metadata": {},
   "source": [
    "The accuracy barely improved. Since the model is already taking too long to run, we will finish the training by using the whole original training dataset to train the model, persist it and that will end this part."
   ]
  },
  {
   "cell_type": "code",
   "execution_count": 29,
   "id": "510a7b4d",
   "metadata": {},
   "outputs": [
    {
     "data": {
      "text/plain": [
       "['svm_model.joblib']"
      ]
     },
     "execution_count": 29,
     "metadata": {},
     "output_type": "execute_result"
    }
   ],
   "source": [
    "from joblib import dump, load\n",
    "\n",
    "train_x = pd.concat([train_x, validation_x])\n",
    "train_y = pd.concat([train_y, validation_y])\n",
    "clf = svm.SVC(kernel='linear', random_state=1234)\n",
    "clf.fit(list(train_x), train_y)\n",
    "dump(clf, 'svm_model.joblib')"
   ]
  },
  {
   "cell_type": "markdown",
   "id": "301df110",
   "metadata": {},
   "source": [
    "## Evaluating the model\n",
    "\n",
    "Let us start by loading the model and getting the word vector represention of the testing dataset."
   ]
  },
  {
   "cell_type": "code",
   "execution_count": 30,
   "id": "3b146f53",
   "metadata": {},
   "outputs": [],
   "source": [
    "clf = load('svm_model.joblib')\n",
    "test_x = test_df['reviewText'].apply(lambda x: nlp(x).vector)\n",
    "test_y = test_df['category']"
   ]
  },
  {
   "cell_type": "markdown",
   "id": "0188244a",
   "metadata": {},
   "source": [
    "Now we are able to evaluate the model. Let us get the global accuracy"
   ]
  },
  {
   "cell_type": "code",
   "execution_count": 32,
   "id": "0fc7c150",
   "metadata": {},
   "outputs": [
    {
     "data": {
      "text/plain": [
       "0.6766666666666666"
      ]
     },
     "execution_count": 32,
     "metadata": {},
     "output_type": "execute_result"
    }
   ],
   "source": [
    "pred = clf.predict(list(test_x))\n",
    "\n",
    "accuracy_score(test_y, pred)"
   ]
  },
  {
   "cell_type": "markdown",
   "id": "11b3c6f0",
   "metadata": {},
   "source": [
    "The accurary was close to 0.68, a little bit below the one we have got in the validation. Let us see the f1 by category."
   ]
  },
  {
   "cell_type": "code",
   "execution_count": 37,
   "id": "a5e8403f",
   "metadata": {},
   "outputs": [
    {
     "name": "stdout",
     "output_type": "stream",
     "text": [
      "Pet_Supplies 0.6972067039106146\n",
      "Patio_Lawn_Garden 0.4883955600403633\n",
      "Grocery 0.7360672975814931\n",
      "Electronics 0.5997993981945837\n",
      "Digital_Music 0.7621832358674464\n",
      "Clothing 0.7194994786235661\n",
      "Books 0.8445807770961145\n",
      "Beauty 0.7605633802816901\n",
      "Automotive 0.5061511423550088\n"
     ]
    }
   ],
   "source": [
    "category = test_df['category'].unique()\n",
    "f1 = f1_score(test_y, pred, average=None, labels=test_df['category'].unique())\n",
    "\n",
    "for i, c in enumerate(category):\n",
    "    print(c, f1[i])"
   ]
  },
  {
   "cell_type": "markdown",
   "id": "f661fbd9",
   "metadata": {},
   "source": [
    "Some categories performed very well, such as Grocery, Digital Music, Clothing, Books, Beauty, having a f1 score higher than 0.7. The worst categories were Patio Lawn Garden and Automotive, having a f1 score close to 0.5.\n",
    "\n",
    "## Clonclusion\n",
    "\n",
    "In this project, we have build a machine learning model capable of classifying amazon reviews according to their category with an accuracy of almost 0.68. The results were mainly worsened by the Patio Lawn and Automotive categories. Investigating these categories and treating them independently could lead to significantly better results. We could also try some modern NLP techniques, such as [transformers](https://towardsdatascience.com/transformers-89034557de14) and use another machine learning models, such as neural networks."
   ]
  }
 ],
 "metadata": {
  "kernelspec": {
   "display_name": "Python 3 (ipykernel)",
   "language": "python",
   "name": "python3"
  },
  "language_info": {
   "codemirror_mode": {
    "name": "ipython",
    "version": 3
   },
   "file_extension": ".py",
   "mimetype": "text/x-python",
   "name": "python",
   "nbconvert_exporter": "python",
   "pygments_lexer": "ipython3",
   "version": "3.11.5"
  }
 },
 "nbformat": 4,
 "nbformat_minor": 5
}
