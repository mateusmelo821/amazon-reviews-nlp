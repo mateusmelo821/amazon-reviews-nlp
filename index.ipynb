{
 "cells": [
  {
   "cell_type": "markdown",
   "id": "58a65b45",
   "metadata": {},
   "source": [
    "# Amazon Reviews Category Classification\n",
    "\n",
    "In this project, we are going to use some amazon reviews data, made available by [Keith Galli](https://github.com/KeithGalli/pycon2020), and NLP techniques in order to build a category classification model. This report is divided in 4 parts:\n",
    "\n",
    "* Setting up the data\n",
    "* Training the model\n",
    "* Evaluating the model\n",
    "* Conclusion\n",
    "\n",
    "## Setting up the data\n",
    "\n",
    "We start our project by loading the data and necessary packages. The data is was previously stored in a S3 bucket and it is already divided into 2 datasets, one for training and one for testing. The aws cli is already installed and setted up locally."
   ]
  },
  {
   "cell_type": "code",
   "execution_count": 109,
   "id": "94bf18e0",
   "metadata": {},
   "outputs": [
    {
     "data": {
      "text/plain": [
       "['train_Automotive.json',\n",
       " 'train_Beauty.json',\n",
       " 'train_Books.json',\n",
       " 'train_Clothing.json',\n",
       " 'train_Digital_Music.json',\n",
       " 'train_Electronics.json',\n",
       " 'train_Grocery.json',\n",
       " 'train_Patio_Lawn_Garden.json',\n",
       " 'train_Pet_Supplies.json']"
      ]
     },
     "execution_count": 109,
     "metadata": {},
     "output_type": "execute_result"
    }
   ],
   "source": [
    "import pandas as pd\n",
    "import numpy as np\n",
    "from sklearn.model_selection import train_test_split\n",
    "from sklearn.feature_extraction.text import CountVectorizer, TfidfVectorizer\n",
    "from sklearn.metrics import f1_score, accuracy_score\n",
    "from sklearn import svm\n",
    "import spacy\n",
    "import json\n",
    "import boto3\n",
    "\n",
    "bucket_name = 'melo-datascience-projects'\n",
    "training_path = 'nlp/amazon-reviews/training/'\n",
    "testing_path = 'nlp/amazon-reviews/test/'\n",
    "s3 = boto3.resource('s3')\n",
    "bucket = s3.Bucket(bucket_name)\n",
    "training_files = [file.key.replace(training_path, '') for file in bucket.objects.filter(Prefix=training_path)]\n",
    "training_files"
   ]
  },
  {
   "cell_type": "code",
   "execution_count": 107,
   "id": "0ebadb9f",
   "metadata": {},
   "outputs": [
    {
     "data": {
      "text/plain": [
       "['test_Automotive.json',\n",
       " 'test_Beauty.json',\n",
       " 'test_Books.json',\n",
       " 'test_Clothing.json',\n",
       " 'test_Digital_Music.json',\n",
       " 'test_Electronics.json',\n",
       " 'test_Grocery.json',\n",
       " 'test_Patio_Lawn_Garden.json',\n",
       " 'test_Pet_Supplies.json']"
      ]
     },
     "execution_count": 107,
     "metadata": {},
     "output_type": "execute_result"
    }
   ],
   "source": [
    "testing_files = [file.key.replace(testing_path, '') for file in bucket.objects.filter(Prefix=testing_path)]\n",
    "testing_files"
   ]
  },
  {
   "cell_type": "markdown",
   "id": "90bb8584",
   "metadata": {},
   "source": [
    "As we can see, both the training and testing datasets are divided in several files. Each file contains reviews for a specific category, which is going to be the prediction target of our model. The titles are self-descriptive. Let us read the files."
   ]
  },
  {
   "cell_type": "code",
   "execution_count": 112,
   "id": "1956c9e3",
   "metadata": {},
   "outputs": [
    {
     "data": {
      "text/html": [
       "<div>\n",
       "<style scoped>\n",
       "    .dataframe tbody tr th:only-of-type {\n",
       "        vertical-align: middle;\n",
       "    }\n",
       "\n",
       "    .dataframe tbody tr th {\n",
       "        vertical-align: top;\n",
       "    }\n",
       "\n",
       "    .dataframe thead th {\n",
       "        text-align: right;\n",
       "    }\n",
       "</style>\n",
       "<table border=\"1\" class=\"dataframe\">\n",
       "  <thead>\n",
       "    <tr style=\"text-align: right;\">\n",
       "      <th></th>\n",
       "      <th>overall</th>\n",
       "      <th>verified</th>\n",
       "      <th>reviewTime</th>\n",
       "      <th>reviewerID</th>\n",
       "      <th>asin</th>\n",
       "      <th>style</th>\n",
       "      <th>reviewerName</th>\n",
       "      <th>reviewText</th>\n",
       "      <th>summary</th>\n",
       "      <th>unixReviewTime</th>\n",
       "      <th>vote</th>\n",
       "      <th>image</th>\n",
       "      <th>category</th>\n",
       "    </tr>\n",
       "  </thead>\n",
       "  <tbody>\n",
       "    <tr>\n",
       "      <th>22495</th>\n",
       "      <td>5</td>\n",
       "      <td>True</td>\n",
       "      <td>04 22, 2016</td>\n",
       "      <td>A34IOVL7T9YYSF</td>\n",
       "      <td>B0002H335A</td>\n",
       "      <td>{'Size:': ' 3 Ton'}</td>\n",
       "      <td>JAF</td>\n",
       "      <td>Exactly What I expected, delivered on time. Hi...</td>\n",
       "      <td>Highly Recommend.</td>\n",
       "      <td>1461283200</td>\n",
       "      <td>NaN</td>\n",
       "      <td>NaN</td>\n",
       "      <td>Automotive</td>\n",
       "    </tr>\n",
       "    <tr>\n",
       "      <th>22496</th>\n",
       "      <td>5</td>\n",
       "      <td>True</td>\n",
       "      <td>03 27, 2018</td>\n",
       "      <td>A1LTFR6UKP7N3Q</td>\n",
       "      <td>B000CITK8S</td>\n",
       "      <td>{'Size:': ' 12V @ 750mA', 'Color:': ' Black/Gr...</td>\n",
       "      <td>Bryan Hargrave</td>\n",
       "      <td>Got this thing taking care of my lawnmower bat...</td>\n",
       "      <td>... care of my lawnmower battery and it is wor...</td>\n",
       "      <td>1522108800</td>\n",
       "      <td>NaN</td>\n",
       "      <td>NaN</td>\n",
       "      <td>Automotive</td>\n",
       "    </tr>\n",
       "    <tr>\n",
       "      <th>22497</th>\n",
       "      <td>5</td>\n",
       "      <td>True</td>\n",
       "      <td>07 22, 2016</td>\n",
       "      <td>A10DPAG6XHKI25</td>\n",
       "      <td>B0006I0MVS</td>\n",
       "      <td>{'Size:': ' 1 inch Shaft', 'Color:': ' Beige'}</td>\n",
       "      <td>buyer</td>\n",
       "      <td>Great replacement for old brittle handles. As ...</td>\n",
       "      <td>Great replacement for old brittle handles</td>\n",
       "      <td>1469145600</td>\n",
       "      <td>NaN</td>\n",
       "      <td>NaN</td>\n",
       "      <td>Automotive</td>\n",
       "    </tr>\n",
       "    <tr>\n",
       "      <th>22498</th>\n",
       "      <td>5</td>\n",
       "      <td>True</td>\n",
       "      <td>10 11, 2016</td>\n",
       "      <td>A20JW9PWVAENUP</td>\n",
       "      <td>B000BUU5VS</td>\n",
       "      <td>{'Style:': ' Slide Out Lube'}</td>\n",
       "      <td>michael owens</td>\n",
       "      <td>great</td>\n",
       "      <td>great</td>\n",
       "      <td>1476144000</td>\n",
       "      <td>NaN</td>\n",
       "      <td>NaN</td>\n",
       "      <td>Automotive</td>\n",
       "    </tr>\n",
       "    <tr>\n",
       "      <th>22499</th>\n",
       "      <td>5</td>\n",
       "      <td>True</td>\n",
       "      <td>07 23, 2015</td>\n",
       "      <td>A30DC6PH6NJQL9</td>\n",
       "      <td>B00017YYI6</td>\n",
       "      <td>NaN</td>\n",
       "      <td>Susan</td>\n",
       "      <td>My husband likes it, he can fill air bags goin...</td>\n",
       "      <td>Five Stars</td>\n",
       "      <td>1437609600</td>\n",
       "      <td>NaN</td>\n",
       "      <td>NaN</td>\n",
       "      <td>Automotive</td>\n",
       "    </tr>\n",
       "  </tbody>\n",
       "</table>\n",
       "</div>"
      ],
      "text/plain": [
       "       overall  verified   reviewTime      reviewerID        asin  \\\n",
       "22495        5      True  04 22, 2016  A34IOVL7T9YYSF  B0002H335A   \n",
       "22496        5      True  03 27, 2018  A1LTFR6UKP7N3Q  B000CITK8S   \n",
       "22497        5      True  07 22, 2016  A10DPAG6XHKI25  B0006I0MVS   \n",
       "22498        5      True  10 11, 2016  A20JW9PWVAENUP  B000BUU5VS   \n",
       "22499        5      True  07 23, 2015  A30DC6PH6NJQL9  B00017YYI6   \n",
       "\n",
       "                                                   style    reviewerName  \\\n",
       "22495                                {'Size:': ' 3 Ton'}             JAF   \n",
       "22496  {'Size:': ' 12V @ 750mA', 'Color:': ' Black/Gr...  Bryan Hargrave   \n",
       "22497     {'Size:': ' 1 inch Shaft', 'Color:': ' Beige'}           buyer   \n",
       "22498                      {'Style:': ' Slide Out Lube'}   michael owens   \n",
       "22499                                                NaN           Susan   \n",
       "\n",
       "                                              reviewText  \\\n",
       "22495  Exactly What I expected, delivered on time. Hi...   \n",
       "22496  Got this thing taking care of my lawnmower bat...   \n",
       "22497  Great replacement for old brittle handles. As ...   \n",
       "22498                                              great   \n",
       "22499  My husband likes it, he can fill air bags goin...   \n",
       "\n",
       "                                                 summary  unixReviewTime  \\\n",
       "22495                                  Highly Recommend.      1461283200   \n",
       "22496  ... care of my lawnmower battery and it is wor...      1522108800   \n",
       "22497          Great replacement for old brittle handles      1469145600   \n",
       "22498                                              great      1476144000   \n",
       "22499                                         Five Stars      1437609600   \n",
       "\n",
       "       vote image    category  \n",
       "22495   NaN   NaN  Automotive  \n",
       "22496   NaN   NaN  Automotive  \n",
       "22497   NaN   NaN  Automotive  \n",
       "22498   NaN   NaN  Automotive  \n",
       "22499   NaN   NaN  Automotive  "
      ]
     },
     "execution_count": 112,
     "metadata": {},
     "output_type": "execute_result"
    }
   ],
   "source": [
    "train_df = pd.DataFrame()\n",
    "for file in training_files:\n",
    "    obj = s3.Object(bucket_name, training_path+file).get()['Body'].read()\n",
    "    train_df_aux = pd.read_json(obj.decode(), lines=True)\n",
    "    train_df_aux['category'] = file.strip('train_').split('.')[0]\n",
    "    train_df = pd.concat([train_df_aux, train_df], ignore_index=True)\n",
    "\n",
    "train_df.tail()"
   ]
  },
  {
   "cell_type": "code",
   "execution_count": 114,
   "id": "c33cb5db",
   "metadata": {},
   "outputs": [
    {
     "data": {
      "text/html": [
       "<div>\n",
       "<style scoped>\n",
       "    .dataframe tbody tr th:only-of-type {\n",
       "        vertical-align: middle;\n",
       "    }\n",
       "\n",
       "    .dataframe tbody tr th {\n",
       "        vertical-align: top;\n",
       "    }\n",
       "\n",
       "    .dataframe thead th {\n",
       "        text-align: right;\n",
       "    }\n",
       "</style>\n",
       "<table border=\"1\" class=\"dataframe\">\n",
       "  <thead>\n",
       "    <tr style=\"text-align: right;\">\n",
       "      <th></th>\n",
       "      <th>overall</th>\n",
       "      <th>verified</th>\n",
       "      <th>reviewTime</th>\n",
       "      <th>reviewerID</th>\n",
       "      <th>asin</th>\n",
       "      <th>reviewerName</th>\n",
       "      <th>reviewText</th>\n",
       "      <th>summary</th>\n",
       "      <th>unixReviewTime</th>\n",
       "      <th>style</th>\n",
       "      <th>vote</th>\n",
       "      <th>image</th>\n",
       "      <th>category</th>\n",
       "    </tr>\n",
       "  </thead>\n",
       "  <tbody>\n",
       "    <tr>\n",
       "      <th>4495</th>\n",
       "      <td>5</td>\n",
       "      <td>True</td>\n",
       "      <td>08 26, 2015</td>\n",
       "      <td>A1SRL9RS46YFNY</td>\n",
       "      <td>B0000AXS24</td>\n",
       "      <td>pedro vazquez</td>\n",
       "      <td>Good productos</td>\n",
       "      <td>Five Stars</td>\n",
       "      <td>1440547200</td>\n",
       "      <td>{'Color:': ' Black'}</td>\n",
       "      <td>NaN</td>\n",
       "      <td>NaN</td>\n",
       "      <td>Automotive</td>\n",
       "    </tr>\n",
       "    <tr>\n",
       "      <th>4496</th>\n",
       "      <td>5</td>\n",
       "      <td>True</td>\n",
       "      <td>08 7, 2017</td>\n",
       "      <td>AYNPB2QQS2QUF</td>\n",
       "      <td>B000CONU1K</td>\n",
       "      <td>dino77dan</td>\n",
       "      <td>Easy to install. Highly re ommended.</td>\n",
       "      <td>Good quality locks.</td>\n",
       "      <td>1502064000</td>\n",
       "      <td>NaN</td>\n",
       "      <td>NaN</td>\n",
       "      <td>NaN</td>\n",
       "      <td>Automotive</td>\n",
       "    </tr>\n",
       "    <tr>\n",
       "      <th>4497</th>\n",
       "      <td>5</td>\n",
       "      <td>True</td>\n",
       "      <td>11 1, 2015</td>\n",
       "      <td>A28YJ3RXJM0R5P</td>\n",
       "      <td>B00062YCGA</td>\n",
       "      <td>Michael</td>\n",
       "      <td>Awesome price for such good oil!</td>\n",
       "      <td>Five Stars</td>\n",
       "      <td>1446336000</td>\n",
       "      <td>{'Size:': ' 5 Quart'}</td>\n",
       "      <td>NaN</td>\n",
       "      <td>NaN</td>\n",
       "      <td>Automotive</td>\n",
       "    </tr>\n",
       "    <tr>\n",
       "      <th>4498</th>\n",
       "      <td>5</td>\n",
       "      <td>True</td>\n",
       "      <td>08 23, 2010</td>\n",
       "      <td>AJU1HQWCM13Y8</td>\n",
       "      <td>B000CPAEJA</td>\n",
       "      <td>John Dowdell</td>\n",
       "      <td>High quality CV joint grease. I use this greas...</td>\n",
       "      <td>High quality CV joint grease</td>\n",
       "      <td>1282521600</td>\n",
       "      <td>{'Item Package Quantity:': ' 1', 'Package Quan...</td>\n",
       "      <td>8.0</td>\n",
       "      <td>NaN</td>\n",
       "      <td>Automotive</td>\n",
       "    </tr>\n",
       "    <tr>\n",
       "      <th>4499</th>\n",
       "      <td>4</td>\n",
       "      <td>True</td>\n",
       "      <td>07 5, 2014</td>\n",
       "      <td>A2G7YC89EHUP2G</td>\n",
       "      <td>B000C9WL6A</td>\n",
       "      <td>review</td>\n",
       "      <td>Well made</td>\n",
       "      <td>Four Stars</td>\n",
       "      <td>1404518400</td>\n",
       "      <td>{'Item Package Quantity:': ' 1', 'Package Quan...</td>\n",
       "      <td>NaN</td>\n",
       "      <td>NaN</td>\n",
       "      <td>Automotive</td>\n",
       "    </tr>\n",
       "  </tbody>\n",
       "</table>\n",
       "</div>"
      ],
      "text/plain": [
       "      overall  verified   reviewTime      reviewerID        asin  \\\n",
       "4495        5      True  08 26, 2015  A1SRL9RS46YFNY  B0000AXS24   \n",
       "4496        5      True   08 7, 2017   AYNPB2QQS2QUF  B000CONU1K   \n",
       "4497        5      True   11 1, 2015  A28YJ3RXJM0R5P  B00062YCGA   \n",
       "4498        5      True  08 23, 2010   AJU1HQWCM13Y8  B000CPAEJA   \n",
       "4499        4      True   07 5, 2014  A2G7YC89EHUP2G  B000C9WL6A   \n",
       "\n",
       "       reviewerName                                         reviewText  \\\n",
       "4495  pedro vazquez                                     Good productos   \n",
       "4496      dino77dan               Easy to install. Highly re ommended.   \n",
       "4497        Michael                   Awesome price for such good oil!   \n",
       "4498   John Dowdell  High quality CV joint grease. I use this greas...   \n",
       "4499         review                                          Well made   \n",
       "\n",
       "                           summary  unixReviewTime  \\\n",
       "4495                    Five Stars      1440547200   \n",
       "4496           Good quality locks.      1502064000   \n",
       "4497                    Five Stars      1446336000   \n",
       "4498  High quality CV joint grease      1282521600   \n",
       "4499                    Four Stars      1404518400   \n",
       "\n",
       "                                                  style  vote image  \\\n",
       "4495                               {'Color:': ' Black'}   NaN   NaN   \n",
       "4496                                                NaN   NaN   NaN   \n",
       "4497                              {'Size:': ' 5 Quart'}   NaN   NaN   \n",
       "4498  {'Item Package Quantity:': ' 1', 'Package Quan...   8.0   NaN   \n",
       "4499  {'Item Package Quantity:': ' 1', 'Package Quan...   NaN   NaN   \n",
       "\n",
       "        category  \n",
       "4495  Automotive  \n",
       "4496  Automotive  \n",
       "4497  Automotive  \n",
       "4498  Automotive  \n",
       "4499  Automotive  "
      ]
     },
     "execution_count": 114,
     "metadata": {},
     "output_type": "execute_result"
    }
   ],
   "source": [
    "test_df = pd.DataFrame()\n",
    "for file in testing_files:\n",
    "    obj = s3.Object(bucket_name, testing_path+file).get()['Body'].read()\n",
    "    test_df_aux = pd.read_json(obj.decode(), lines=True)\n",
    "    test_df_aux['category'] = file.strip('test_').split('.')[0]\n",
    "    test_df = pd.concat([test_df_aux, test_df], ignore_index=True)\n",
    "\n",
    "test_df.tail()"
   ]
  },
  {
   "cell_type": "markdown",
   "id": "f98466ea",
   "metadata": {},
   "source": [
    "We have 22500 rows for training and 4500 for testing. We also have several columns, but we will only be using 2: reviewText and category. Let us remove the unnecessary columns. We will also check the category proportions."
   ]
  },
  {
   "cell_type": "code",
   "execution_count": 115,
   "id": "dbce4d6a",
   "metadata": {},
   "outputs": [
    {
     "data": {
      "text/html": [
       "<div>\n",
       "<style scoped>\n",
       "    .dataframe tbody tr th:only-of-type {\n",
       "        vertical-align: middle;\n",
       "    }\n",
       "\n",
       "    .dataframe tbody tr th {\n",
       "        vertical-align: top;\n",
       "    }\n",
       "\n",
       "    .dataframe thead th {\n",
       "        text-align: right;\n",
       "    }\n",
       "</style>\n",
       "<table border=\"1\" class=\"dataframe\">\n",
       "  <thead>\n",
       "    <tr style=\"text-align: right;\">\n",
       "      <th></th>\n",
       "      <th>reviewText</th>\n",
       "      <th>category</th>\n",
       "    </tr>\n",
       "  </thead>\n",
       "  <tbody>\n",
       "    <tr>\n",
       "      <th>22495</th>\n",
       "      <td>Exactly What I expected, delivered on time. Hi...</td>\n",
       "      <td>Automotive</td>\n",
       "    </tr>\n",
       "    <tr>\n",
       "      <th>22496</th>\n",
       "      <td>Got this thing taking care of my lawnmower bat...</td>\n",
       "      <td>Automotive</td>\n",
       "    </tr>\n",
       "    <tr>\n",
       "      <th>22497</th>\n",
       "      <td>Great replacement for old brittle handles. As ...</td>\n",
       "      <td>Automotive</td>\n",
       "    </tr>\n",
       "    <tr>\n",
       "      <th>22498</th>\n",
       "      <td>great</td>\n",
       "      <td>Automotive</td>\n",
       "    </tr>\n",
       "    <tr>\n",
       "      <th>22499</th>\n",
       "      <td>My husband likes it, he can fill air bags goin...</td>\n",
       "      <td>Automotive</td>\n",
       "    </tr>\n",
       "  </tbody>\n",
       "</table>\n",
       "</div>"
      ],
      "text/plain": [
       "                                              reviewText    category\n",
       "22495  Exactly What I expected, delivered on time. Hi...  Automotive\n",
       "22496  Got this thing taking care of my lawnmower bat...  Automotive\n",
       "22497  Great replacement for old brittle handles. As ...  Automotive\n",
       "22498                                              great  Automotive\n",
       "22499  My husband likes it, he can fill air bags goin...  Automotive"
      ]
     },
     "execution_count": 115,
     "metadata": {},
     "output_type": "execute_result"
    }
   ],
   "source": [
    "columns = ['reviewText', 'category']\n",
    "train_df = train_df[columns]\n",
    "test_df = test_df[columns]\n",
    "\n",
    "train_df.tail()"
   ]
  },
  {
   "cell_type": "code",
   "execution_count": 116,
   "id": "042a5983",
   "metadata": {},
   "outputs": [
    {
     "data": {
      "text/html": [
       "<div>\n",
       "<style scoped>\n",
       "    .dataframe tbody tr th:only-of-type {\n",
       "        vertical-align: middle;\n",
       "    }\n",
       "\n",
       "    .dataframe tbody tr th {\n",
       "        vertical-align: top;\n",
       "    }\n",
       "\n",
       "    .dataframe thead th {\n",
       "        text-align: right;\n",
       "    }\n",
       "</style>\n",
       "<table border=\"1\" class=\"dataframe\">\n",
       "  <thead>\n",
       "    <tr style=\"text-align: right;\">\n",
       "      <th></th>\n",
       "      <th>reviewText</th>\n",
       "      <th>category</th>\n",
       "    </tr>\n",
       "  </thead>\n",
       "  <tbody>\n",
       "    <tr>\n",
       "      <th>4495</th>\n",
       "      <td>Good productos</td>\n",
       "      <td>Automotive</td>\n",
       "    </tr>\n",
       "    <tr>\n",
       "      <th>4496</th>\n",
       "      <td>Easy to install. Highly re ommended.</td>\n",
       "      <td>Automotive</td>\n",
       "    </tr>\n",
       "    <tr>\n",
       "      <th>4497</th>\n",
       "      <td>Awesome price for such good oil!</td>\n",
       "      <td>Automotive</td>\n",
       "    </tr>\n",
       "    <tr>\n",
       "      <th>4498</th>\n",
       "      <td>High quality CV joint grease. I use this greas...</td>\n",
       "      <td>Automotive</td>\n",
       "    </tr>\n",
       "    <tr>\n",
       "      <th>4499</th>\n",
       "      <td>Well made</td>\n",
       "      <td>Automotive</td>\n",
       "    </tr>\n",
       "  </tbody>\n",
       "</table>\n",
       "</div>"
      ],
      "text/plain": [
       "                                             reviewText    category\n",
       "4495                                     Good productos  Automotive\n",
       "4496               Easy to install. Highly re ommended.  Automotive\n",
       "4497                   Awesome price for such good oil!  Automotive\n",
       "4498  High quality CV joint grease. I use this greas...  Automotive\n",
       "4499                                          Well made  Automotive"
      ]
     },
     "execution_count": 116,
     "metadata": {},
     "output_type": "execute_result"
    }
   ],
   "source": [
    "test_df.tail()"
   ]
  },
  {
   "cell_type": "code",
   "execution_count": 118,
   "id": "be45001f",
   "metadata": {},
   "outputs": [
    {
     "data": {
      "text/plain": [
       "category\n",
       "Automotive           2500\n",
       "Beauty               2500\n",
       "Books                2500\n",
       "Clothing             2500\n",
       "Digital_Music        2500\n",
       "Electronics          2500\n",
       "Grocery              2500\n",
       "Patio_Lawn_Garden    2500\n",
       "Pet_Supplies         2500\n",
       "Name: reviewText, dtype: int64"
      ]
     },
     "execution_count": 118,
     "metadata": {},
     "output_type": "execute_result"
    }
   ],
   "source": [
    "train_df.groupby('category')['reviewText'].count()"
   ]
  },
  {
   "cell_type": "code",
   "execution_count": 121,
   "id": "56ba4b0d",
   "metadata": {},
   "outputs": [
    {
     "data": {
      "text/plain": [
       "category\n",
       "Automotive           500\n",
       "Beauty               500\n",
       "Books                500\n",
       "Clothing             500\n",
       "Digital_Music        500\n",
       "Electronics          500\n",
       "Grocery              500\n",
       "Patio_Lawn_Garden    500\n",
       "Pet_Supplies         500\n",
       "Name: reviewText, dtype: int64"
      ]
     },
     "execution_count": 121,
     "metadata": {},
     "output_type": "execute_result"
    }
   ],
   "source": [
    "test_df.groupby('category')['reviewText'].count()"
   ]
  },
  {
   "cell_type": "markdown",
   "id": "8c56b84f",
   "metadata": {},
   "source": [
    "The data is perfectly balanced. Let us check if there are some null or blank values."
   ]
  },
  {
   "cell_type": "code",
   "execution_count": 122,
   "id": "a492ebc2",
   "metadata": {},
   "outputs": [
    {
     "data": {
      "text/plain": [
       "0"
      ]
     },
     "execution_count": 122,
     "metadata": {},
     "output_type": "execute_result"
    }
   ],
   "source": [
    "train_df['reviewText'].isna().sum()"
   ]
  },
  {
   "cell_type": "code",
   "execution_count": 123,
   "id": "983a5d74",
   "metadata": {},
   "outputs": [
    {
     "data": {
      "text/plain": [
       "0"
      ]
     },
     "execution_count": 123,
     "metadata": {},
     "output_type": "execute_result"
    }
   ],
   "source": [
    "test_df['reviewText'].isna().sum()"
   ]
  },
  {
   "cell_type": "code",
   "execution_count": 125,
   "id": "e2d074cb",
   "metadata": {},
   "outputs": [
    {
     "data": {
      "text/plain": [
       "0"
      ]
     },
     "execution_count": 125,
     "metadata": {},
     "output_type": "execute_result"
    }
   ],
   "source": [
    "sum(train_df['reviewText']=='')"
   ]
  },
  {
   "cell_type": "code",
   "execution_count": 126,
   "id": "384399fa",
   "metadata": {},
   "outputs": [
    {
     "data": {
      "text/plain": [
       "0"
      ]
     },
     "execution_count": 126,
     "metadata": {},
     "output_type": "execute_result"
    }
   ],
   "source": [
    "sum(test_df['reviewText']=='')"
   ]
  },
  {
   "cell_type": "markdown",
   "id": "ad49558c",
   "metadata": {},
   "source": [
    "All of the reviews seem to be valid. Now we are going to take some instances from the training data in order to build a validation dataset. We are going to do it in way such as that the datasets remain balanced. After that, we are ready to start the training."
   ]
  },
  {
   "cell_type": "code",
   "execution_count": 127,
   "id": "6148b1c3",
   "metadata": {},
   "outputs": [
    {
     "data": {
      "text/html": [
       "<div>\n",
       "<style scoped>\n",
       "    .dataframe tbody tr th:only-of-type {\n",
       "        vertical-align: middle;\n",
       "    }\n",
       "\n",
       "    .dataframe tbody tr th {\n",
       "        vertical-align: top;\n",
       "    }\n",
       "\n",
       "    .dataframe thead th {\n",
       "        text-align: right;\n",
       "    }\n",
       "</style>\n",
       "<table border=\"1\" class=\"dataframe\">\n",
       "  <thead>\n",
       "    <tr style=\"text-align: right;\">\n",
       "      <th></th>\n",
       "      <th>reviewText</th>\n",
       "      <th>category</th>\n",
       "    </tr>\n",
       "  </thead>\n",
       "  <tbody>\n",
       "    <tr>\n",
       "      <th>3678</th>\n",
       "      <td>Recommended by a friend. It saved my sanity, a...</td>\n",
       "      <td>Patio_Lawn_Garden</td>\n",
       "    </tr>\n",
       "    <tr>\n",
       "      <th>19383</th>\n",
       "      <td>These are products I use regularly and am alwa...</td>\n",
       "      <td>Beauty</td>\n",
       "    </tr>\n",
       "    <tr>\n",
       "      <th>5876</th>\n",
       "      <td>Would have been great, if I received chocolate...</td>\n",
       "      <td>Grocery</td>\n",
       "    </tr>\n",
       "    <tr>\n",
       "      <th>5543</th>\n",
       "      <td>It's Fleischmann's yeast. The best and original.</td>\n",
       "      <td>Grocery</td>\n",
       "    </tr>\n",
       "    <tr>\n",
       "      <th>15190</th>\n",
       "      <td>Sharpe's Fury: Richard Sharpe &amp; the Battle of ...</td>\n",
       "      <td>Books</td>\n",
       "    </tr>\n",
       "  </tbody>\n",
       "</table>\n",
       "</div>"
      ],
      "text/plain": [
       "                                              reviewText           category\n",
       "3678   Recommended by a friend. It saved my sanity, a...  Patio_Lawn_Garden\n",
       "19383  These are products I use regularly and am alwa...             Beauty\n",
       "5876   Would have been great, if I received chocolate...            Grocery\n",
       "5543    It's Fleischmann's yeast. The best and original.            Grocery\n",
       "15190  Sharpe's Fury: Richard Sharpe & the Battle of ...              Books"
      ]
     },
     "execution_count": 127,
     "metadata": {},
     "output_type": "execute_result"
    }
   ],
   "source": [
    "train_df, validation_df = train_test_split(train_df, stratify=train_df['category'], test_size=0.2, random_state=42)\n",
    "train_df.tail()"
   ]
  },
  {
   "cell_type": "code",
   "execution_count": 128,
   "id": "ab05132f",
   "metadata": {},
   "outputs": [
    {
     "data": {
      "text/html": [
       "<div>\n",
       "<style scoped>\n",
       "    .dataframe tbody tr th:only-of-type {\n",
       "        vertical-align: middle;\n",
       "    }\n",
       "\n",
       "    .dataframe tbody tr th {\n",
       "        vertical-align: top;\n",
       "    }\n",
       "\n",
       "    .dataframe thead th {\n",
       "        text-align: right;\n",
       "    }\n",
       "</style>\n",
       "<table border=\"1\" class=\"dataframe\">\n",
       "  <thead>\n",
       "    <tr style=\"text-align: right;\">\n",
       "      <th></th>\n",
       "      <th>reviewText</th>\n",
       "      <th>category</th>\n",
       "    </tr>\n",
       "  </thead>\n",
       "  <tbody>\n",
       "    <tr>\n",
       "      <th>15778</th>\n",
       "      <td>A book about winning (at business) by someone ...</td>\n",
       "      <td>Books</td>\n",
       "    </tr>\n",
       "    <tr>\n",
       "      <th>5848</th>\n",
       "      <td>tasty and a worthy cause</td>\n",
       "      <td>Grocery</td>\n",
       "    </tr>\n",
       "    <tr>\n",
       "      <th>17689</th>\n",
       "      <td>love it...wish I could find the hand lotion!</td>\n",
       "      <td>Beauty</td>\n",
       "    </tr>\n",
       "    <tr>\n",
       "      <th>4394</th>\n",
       "      <td>They eliminated some of the old spray patterns...</td>\n",
       "      <td>Patio_Lawn_Garden</td>\n",
       "    </tr>\n",
       "    <tr>\n",
       "      <th>13001</th>\n",
       "      <td>beautiful backpack.</td>\n",
       "      <td>Clothing</td>\n",
       "    </tr>\n",
       "  </tbody>\n",
       "</table>\n",
       "</div>"
      ],
      "text/plain": [
       "                                              reviewText           category\n",
       "15778  A book about winning (at business) by someone ...              Books\n",
       "5848                            tasty and a worthy cause            Grocery\n",
       "17689       love it...wish I could find the hand lotion!             Beauty\n",
       "4394   They eliminated some of the old spray patterns...  Patio_Lawn_Garden\n",
       "13001                                beautiful backpack.           Clothing"
      ]
     },
     "execution_count": 128,
     "metadata": {},
     "output_type": "execute_result"
    }
   ],
   "source": [
    "validation_df.tail()"
   ]
  },
  {
   "cell_type": "code",
   "execution_count": 130,
   "id": "ee7847ef",
   "metadata": {},
   "outputs": [
    {
     "data": {
      "text/plain": [
       "(18000, 2)"
      ]
     },
     "execution_count": 130,
     "metadata": {},
     "output_type": "execute_result"
    }
   ],
   "source": [
    "train_df.shape"
   ]
  },
  {
   "cell_type": "code",
   "execution_count": 131,
   "id": "f3633a79",
   "metadata": {},
   "outputs": [
    {
     "data": {
      "text/plain": [
       "(4500, 2)"
      ]
     },
     "execution_count": 131,
     "metadata": {},
     "output_type": "execute_result"
    }
   ],
   "source": [
    "validation_df.shape"
   ]
  },
  {
   "cell_type": "markdown",
   "id": "aca9fc64",
   "metadata": {},
   "source": [
    "## Training the model\n",
    "\n",
    "We are going to use a SVM model with a linear kernel, since it is well known that it works well with NLP. The first technique that we are going to use is the bag of words. We will be starting with the unigram approach and see how it goes.\n",
    "\n",
    "### Bag of words (unigram)\n",
    "\n",
    "Let us start by considering only the presence of a words, instead of its counting."
   ]
  },
  {
   "cell_type": "code",
   "execution_count": 141,
   "id": "1b91773c",
   "metadata": {},
   "outputs": [
    {
     "data": {
      "text/html": [
       "<style>#sk-container-id-1 {color: black;}#sk-container-id-1 pre{padding: 0;}#sk-container-id-1 div.sk-toggleable {background-color: white;}#sk-container-id-1 label.sk-toggleable__label {cursor: pointer;display: block;width: 100%;margin-bottom: 0;padding: 0.3em;box-sizing: border-box;text-align: center;}#sk-container-id-1 label.sk-toggleable__label-arrow:before {content: \"▸\";float: left;margin-right: 0.25em;color: #696969;}#sk-container-id-1 label.sk-toggleable__label-arrow:hover:before {color: black;}#sk-container-id-1 div.sk-estimator:hover label.sk-toggleable__label-arrow:before {color: black;}#sk-container-id-1 div.sk-toggleable__content {max-height: 0;max-width: 0;overflow: hidden;text-align: left;background-color: #f0f8ff;}#sk-container-id-1 div.sk-toggleable__content pre {margin: 0.2em;color: black;border-radius: 0.25em;background-color: #f0f8ff;}#sk-container-id-1 input.sk-toggleable__control:checked~div.sk-toggleable__content {max-height: 200px;max-width: 100%;overflow: auto;}#sk-container-id-1 input.sk-toggleable__control:checked~label.sk-toggleable__label-arrow:before {content: \"▾\";}#sk-container-id-1 div.sk-estimator input.sk-toggleable__control:checked~label.sk-toggleable__label {background-color: #d4ebff;}#sk-container-id-1 div.sk-label input.sk-toggleable__control:checked~label.sk-toggleable__label {background-color: #d4ebff;}#sk-container-id-1 input.sk-hidden--visually {border: 0;clip: rect(1px 1px 1px 1px);clip: rect(1px, 1px, 1px, 1px);height: 1px;margin: -1px;overflow: hidden;padding: 0;position: absolute;width: 1px;}#sk-container-id-1 div.sk-estimator {font-family: monospace;background-color: #f0f8ff;border: 1px dotted black;border-radius: 0.25em;box-sizing: border-box;margin-bottom: 0.5em;}#sk-container-id-1 div.sk-estimator:hover {background-color: #d4ebff;}#sk-container-id-1 div.sk-parallel-item::after {content: \"\";width: 100%;border-bottom: 1px solid gray;flex-grow: 1;}#sk-container-id-1 div.sk-label:hover label.sk-toggleable__label {background-color: #d4ebff;}#sk-container-id-1 div.sk-serial::before {content: \"\";position: absolute;border-left: 1px solid gray;box-sizing: border-box;top: 0;bottom: 0;left: 50%;z-index: 0;}#sk-container-id-1 div.sk-serial {display: flex;flex-direction: column;align-items: center;background-color: white;padding-right: 0.2em;padding-left: 0.2em;position: relative;}#sk-container-id-1 div.sk-item {position: relative;z-index: 1;}#sk-container-id-1 div.sk-parallel {display: flex;align-items: stretch;justify-content: center;background-color: white;position: relative;}#sk-container-id-1 div.sk-item::before, #sk-container-id-1 div.sk-parallel-item::before {content: \"\";position: absolute;border-left: 1px solid gray;box-sizing: border-box;top: 0;bottom: 0;left: 50%;z-index: -1;}#sk-container-id-1 div.sk-parallel-item {display: flex;flex-direction: column;z-index: 1;position: relative;background-color: white;}#sk-container-id-1 div.sk-parallel-item:first-child::after {align-self: flex-end;width: 50%;}#sk-container-id-1 div.sk-parallel-item:last-child::after {align-self: flex-start;width: 50%;}#sk-container-id-1 div.sk-parallel-item:only-child::after {width: 0;}#sk-container-id-1 div.sk-dashed-wrapped {border: 1px dashed gray;margin: 0 0.4em 0.5em 0.4em;box-sizing: border-box;padding-bottom: 0.4em;background-color: white;}#sk-container-id-1 div.sk-label label {font-family: monospace;font-weight: bold;display: inline-block;line-height: 1.2em;}#sk-container-id-1 div.sk-label-container {text-align: center;}#sk-container-id-1 div.sk-container {/* jupyter's `normalize.less` sets `[hidden] { display: none; }` but bootstrap.min.css set `[hidden] { display: none !important; }` so we also need the `!important` here to be able to override the default hidden behavior on the sphinx rendered scikit-learn.org. See: https://github.com/scikit-learn/scikit-learn/issues/21755 */display: inline-block !important;position: relative;}#sk-container-id-1 div.sk-text-repr-fallback {display: none;}</style><div id=\"sk-container-id-1\" class=\"sk-top-container\"><div class=\"sk-text-repr-fallback\"><pre>SVC(kernel=&#x27;linear&#x27;, random_state=1234)</pre><b>In a Jupyter environment, please rerun this cell to show the HTML representation or trust the notebook. <br />On GitHub, the HTML representation is unable to render, please try loading this page with nbviewer.org.</b></div><div class=\"sk-container\" hidden><div class=\"sk-item\"><div class=\"sk-estimator sk-toggleable\"><input class=\"sk-toggleable__control sk-hidden--visually\" id=\"sk-estimator-id-1\" type=\"checkbox\" checked><label for=\"sk-estimator-id-1\" class=\"sk-toggleable__label sk-toggleable__label-arrow\">SVC</label><div class=\"sk-toggleable__content\"><pre>SVC(kernel=&#x27;linear&#x27;, random_state=1234)</pre></div></div></div></div></div>"
      ],
      "text/plain": [
       "SVC(kernel='linear', random_state=1234)"
      ]
     },
     "execution_count": 141,
     "metadata": {},
     "output_type": "execute_result"
    }
   ],
   "source": [
    "vectorizer = CountVectorizer(binary=True)\n",
    "train_x = vectorizer.fit_transform(train_df['reviewText'])\n",
    "train_y = train_df['category']\n",
    "\n",
    "clf = svm.SVC(kernel='linear', random_state=1234)\n",
    "clf.fit(train_x, train_y)"
   ]
  },
  {
   "cell_type": "code",
   "execution_count": 142,
   "id": "a07b2a2d",
   "metadata": {},
   "outputs": [
    {
     "data": {
      "text/plain": [
       "0.6495555555555556"
      ]
     },
     "execution_count": 142,
     "metadata": {},
     "output_type": "execute_result"
    }
   ],
   "source": [
    "validation_x = vectorizer.transform(validation_df['reviewText'])\n",
    "validation_y = validation_df['category']\n",
    "pred = clf.predict(validation_x)\n",
    "\n",
    "accuracy_score(validation_y, pred)"
   ]
  },
  {
   "cell_type": "markdown",
   "id": "5df6db3b",
   "metadata": {},
   "source": [
    "We have got an accuracy of 0.65. Let us try with the words counting."
   ]
  },
  {
   "cell_type": "code",
   "execution_count": 149,
   "id": "90b42298",
   "metadata": {},
   "outputs": [
    {
     "data": {
      "text/html": [
       "<style>#sk-container-id-2 {color: black;}#sk-container-id-2 pre{padding: 0;}#sk-container-id-2 div.sk-toggleable {background-color: white;}#sk-container-id-2 label.sk-toggleable__label {cursor: pointer;display: block;width: 100%;margin-bottom: 0;padding: 0.3em;box-sizing: border-box;text-align: center;}#sk-container-id-2 label.sk-toggleable__label-arrow:before {content: \"▸\";float: left;margin-right: 0.25em;color: #696969;}#sk-container-id-2 label.sk-toggleable__label-arrow:hover:before {color: black;}#sk-container-id-2 div.sk-estimator:hover label.sk-toggleable__label-arrow:before {color: black;}#sk-container-id-2 div.sk-toggleable__content {max-height: 0;max-width: 0;overflow: hidden;text-align: left;background-color: #f0f8ff;}#sk-container-id-2 div.sk-toggleable__content pre {margin: 0.2em;color: black;border-radius: 0.25em;background-color: #f0f8ff;}#sk-container-id-2 input.sk-toggleable__control:checked~div.sk-toggleable__content {max-height: 200px;max-width: 100%;overflow: auto;}#sk-container-id-2 input.sk-toggleable__control:checked~label.sk-toggleable__label-arrow:before {content: \"▾\";}#sk-container-id-2 div.sk-estimator input.sk-toggleable__control:checked~label.sk-toggleable__label {background-color: #d4ebff;}#sk-container-id-2 div.sk-label input.sk-toggleable__control:checked~label.sk-toggleable__label {background-color: #d4ebff;}#sk-container-id-2 input.sk-hidden--visually {border: 0;clip: rect(1px 1px 1px 1px);clip: rect(1px, 1px, 1px, 1px);height: 1px;margin: -1px;overflow: hidden;padding: 0;position: absolute;width: 1px;}#sk-container-id-2 div.sk-estimator {font-family: monospace;background-color: #f0f8ff;border: 1px dotted black;border-radius: 0.25em;box-sizing: border-box;margin-bottom: 0.5em;}#sk-container-id-2 div.sk-estimator:hover {background-color: #d4ebff;}#sk-container-id-2 div.sk-parallel-item::after {content: \"\";width: 100%;border-bottom: 1px solid gray;flex-grow: 1;}#sk-container-id-2 div.sk-label:hover label.sk-toggleable__label {background-color: #d4ebff;}#sk-container-id-2 div.sk-serial::before {content: \"\";position: absolute;border-left: 1px solid gray;box-sizing: border-box;top: 0;bottom: 0;left: 50%;z-index: 0;}#sk-container-id-2 div.sk-serial {display: flex;flex-direction: column;align-items: center;background-color: white;padding-right: 0.2em;padding-left: 0.2em;position: relative;}#sk-container-id-2 div.sk-item {position: relative;z-index: 1;}#sk-container-id-2 div.sk-parallel {display: flex;align-items: stretch;justify-content: center;background-color: white;position: relative;}#sk-container-id-2 div.sk-item::before, #sk-container-id-2 div.sk-parallel-item::before {content: \"\";position: absolute;border-left: 1px solid gray;box-sizing: border-box;top: 0;bottom: 0;left: 50%;z-index: -1;}#sk-container-id-2 div.sk-parallel-item {display: flex;flex-direction: column;z-index: 1;position: relative;background-color: white;}#sk-container-id-2 div.sk-parallel-item:first-child::after {align-self: flex-end;width: 50%;}#sk-container-id-2 div.sk-parallel-item:last-child::after {align-self: flex-start;width: 50%;}#sk-container-id-2 div.sk-parallel-item:only-child::after {width: 0;}#sk-container-id-2 div.sk-dashed-wrapped {border: 1px dashed gray;margin: 0 0.4em 0.5em 0.4em;box-sizing: border-box;padding-bottom: 0.4em;background-color: white;}#sk-container-id-2 div.sk-label label {font-family: monospace;font-weight: bold;display: inline-block;line-height: 1.2em;}#sk-container-id-2 div.sk-label-container {text-align: center;}#sk-container-id-2 div.sk-container {/* jupyter's `normalize.less` sets `[hidden] { display: none; }` but bootstrap.min.css set `[hidden] { display: none !important; }` so we also need the `!important` here to be able to override the default hidden behavior on the sphinx rendered scikit-learn.org. See: https://github.com/scikit-learn/scikit-learn/issues/21755 */display: inline-block !important;position: relative;}#sk-container-id-2 div.sk-text-repr-fallback {display: none;}</style><div id=\"sk-container-id-2\" class=\"sk-top-container\"><div class=\"sk-text-repr-fallback\"><pre>SVC(kernel=&#x27;linear&#x27;, random_state=1234)</pre><b>In a Jupyter environment, please rerun this cell to show the HTML representation or trust the notebook. <br />On GitHub, the HTML representation is unable to render, please try loading this page with nbviewer.org.</b></div><div class=\"sk-container\" hidden><div class=\"sk-item\"><div class=\"sk-estimator sk-toggleable\"><input class=\"sk-toggleable__control sk-hidden--visually\" id=\"sk-estimator-id-2\" type=\"checkbox\" checked><label for=\"sk-estimator-id-2\" class=\"sk-toggleable__label sk-toggleable__label-arrow\">SVC</label><div class=\"sk-toggleable__content\"><pre>SVC(kernel=&#x27;linear&#x27;, random_state=1234)</pre></div></div></div></div></div>"
      ],
      "text/plain": [
       "SVC(kernel='linear', random_state=1234)"
      ]
     },
     "execution_count": 149,
     "metadata": {},
     "output_type": "execute_result"
    }
   ],
   "source": [
    "vectorizer = CountVectorizer()\n",
    "train_x = vectorizer.fit_transform(train_df['reviewText'])\n",
    "train_y = train_df['category']\n",
    "\n",
    "clf = svm.SVC(kernel='linear', random_state=1234)\n",
    "clf.fit(train_x, train_y)"
   ]
  },
  {
   "cell_type": "code",
   "execution_count": 150,
   "id": "b491471d",
   "metadata": {},
   "outputs": [
    {
     "data": {
      "text/plain": [
       "0.6531111111111111"
      ]
     },
     "execution_count": 150,
     "metadata": {},
     "output_type": "execute_result"
    }
   ],
   "source": [
    "validation_x = vectorizer.transform(validation_df['reviewText'])\n",
    "validation_y = validation_df['category']\n",
    "pred = clf.predict(validation_x)\n",
    "\n",
    "accuracy_score(validation_y, pred)"
   ]
  },
  {
   "cell_type": "markdown",
   "id": "01fd2d22",
   "metadata": {},
   "source": [
    "The accuracy barely changed. Let us try now with bigrams.\n",
    "\n",
    "### Bag of words (bigrams)\n"
   ]
  },
  {
   "cell_type": "code",
   "execution_count": 151,
   "id": "9a19749d",
   "metadata": {},
   "outputs": [
    {
     "data": {
      "text/html": [
       "<style>#sk-container-id-3 {color: black;}#sk-container-id-3 pre{padding: 0;}#sk-container-id-3 div.sk-toggleable {background-color: white;}#sk-container-id-3 label.sk-toggleable__label {cursor: pointer;display: block;width: 100%;margin-bottom: 0;padding: 0.3em;box-sizing: border-box;text-align: center;}#sk-container-id-3 label.sk-toggleable__label-arrow:before {content: \"▸\";float: left;margin-right: 0.25em;color: #696969;}#sk-container-id-3 label.sk-toggleable__label-arrow:hover:before {color: black;}#sk-container-id-3 div.sk-estimator:hover label.sk-toggleable__label-arrow:before {color: black;}#sk-container-id-3 div.sk-toggleable__content {max-height: 0;max-width: 0;overflow: hidden;text-align: left;background-color: #f0f8ff;}#sk-container-id-3 div.sk-toggleable__content pre {margin: 0.2em;color: black;border-radius: 0.25em;background-color: #f0f8ff;}#sk-container-id-3 input.sk-toggleable__control:checked~div.sk-toggleable__content {max-height: 200px;max-width: 100%;overflow: auto;}#sk-container-id-3 input.sk-toggleable__control:checked~label.sk-toggleable__label-arrow:before {content: \"▾\";}#sk-container-id-3 div.sk-estimator input.sk-toggleable__control:checked~label.sk-toggleable__label {background-color: #d4ebff;}#sk-container-id-3 div.sk-label input.sk-toggleable__control:checked~label.sk-toggleable__label {background-color: #d4ebff;}#sk-container-id-3 input.sk-hidden--visually {border: 0;clip: rect(1px 1px 1px 1px);clip: rect(1px, 1px, 1px, 1px);height: 1px;margin: -1px;overflow: hidden;padding: 0;position: absolute;width: 1px;}#sk-container-id-3 div.sk-estimator {font-family: monospace;background-color: #f0f8ff;border: 1px dotted black;border-radius: 0.25em;box-sizing: border-box;margin-bottom: 0.5em;}#sk-container-id-3 div.sk-estimator:hover {background-color: #d4ebff;}#sk-container-id-3 div.sk-parallel-item::after {content: \"\";width: 100%;border-bottom: 1px solid gray;flex-grow: 1;}#sk-container-id-3 div.sk-label:hover label.sk-toggleable__label {background-color: #d4ebff;}#sk-container-id-3 div.sk-serial::before {content: \"\";position: absolute;border-left: 1px solid gray;box-sizing: border-box;top: 0;bottom: 0;left: 50%;z-index: 0;}#sk-container-id-3 div.sk-serial {display: flex;flex-direction: column;align-items: center;background-color: white;padding-right: 0.2em;padding-left: 0.2em;position: relative;}#sk-container-id-3 div.sk-item {position: relative;z-index: 1;}#sk-container-id-3 div.sk-parallel {display: flex;align-items: stretch;justify-content: center;background-color: white;position: relative;}#sk-container-id-3 div.sk-item::before, #sk-container-id-3 div.sk-parallel-item::before {content: \"\";position: absolute;border-left: 1px solid gray;box-sizing: border-box;top: 0;bottom: 0;left: 50%;z-index: -1;}#sk-container-id-3 div.sk-parallel-item {display: flex;flex-direction: column;z-index: 1;position: relative;background-color: white;}#sk-container-id-3 div.sk-parallel-item:first-child::after {align-self: flex-end;width: 50%;}#sk-container-id-3 div.sk-parallel-item:last-child::after {align-self: flex-start;width: 50%;}#sk-container-id-3 div.sk-parallel-item:only-child::after {width: 0;}#sk-container-id-3 div.sk-dashed-wrapped {border: 1px dashed gray;margin: 0 0.4em 0.5em 0.4em;box-sizing: border-box;padding-bottom: 0.4em;background-color: white;}#sk-container-id-3 div.sk-label label {font-family: monospace;font-weight: bold;display: inline-block;line-height: 1.2em;}#sk-container-id-3 div.sk-label-container {text-align: center;}#sk-container-id-3 div.sk-container {/* jupyter's `normalize.less` sets `[hidden] { display: none; }` but bootstrap.min.css set `[hidden] { display: none !important; }` so we also need the `!important` here to be able to override the default hidden behavior on the sphinx rendered scikit-learn.org. See: https://github.com/scikit-learn/scikit-learn/issues/21755 */display: inline-block !important;position: relative;}#sk-container-id-3 div.sk-text-repr-fallback {display: none;}</style><div id=\"sk-container-id-3\" class=\"sk-top-container\"><div class=\"sk-text-repr-fallback\"><pre>SVC(kernel=&#x27;linear&#x27;, random_state=1234)</pre><b>In a Jupyter environment, please rerun this cell to show the HTML representation or trust the notebook. <br />On GitHub, the HTML representation is unable to render, please try loading this page with nbviewer.org.</b></div><div class=\"sk-container\" hidden><div class=\"sk-item\"><div class=\"sk-estimator sk-toggleable\"><input class=\"sk-toggleable__control sk-hidden--visually\" id=\"sk-estimator-id-3\" type=\"checkbox\" checked><label for=\"sk-estimator-id-3\" class=\"sk-toggleable__label sk-toggleable__label-arrow\">SVC</label><div class=\"sk-toggleable__content\"><pre>SVC(kernel=&#x27;linear&#x27;, random_state=1234)</pre></div></div></div></div></div>"
      ],
      "text/plain": [
       "SVC(kernel='linear', random_state=1234)"
      ]
     },
     "execution_count": 151,
     "metadata": {},
     "output_type": "execute_result"
    }
   ],
   "source": [
    "vectorizer = CountVectorizer(binary=True, ngram_range=(1,2))\n",
    "train_x = vectorizer.fit_transform(train_df['reviewText'])\n",
    "train_y = train_df['category']\n",
    "\n",
    "clf = svm.SVC(kernel='linear', random_state=1234)\n",
    "clf.fit(train_x, train_y)"
   ]
  },
  {
   "cell_type": "code",
   "execution_count": 152,
   "id": "2f168718",
   "metadata": {},
   "outputs": [
    {
     "data": {
      "text/plain": [
       "0.6131111111111112"
      ]
     },
     "execution_count": 152,
     "metadata": {},
     "output_type": "execute_result"
    }
   ],
   "source": [
    "validation_x = vectorizer.transform(validation_df['reviewText'])\n",
    "validation_y = validation_df['category']\n",
    "pred = clf.predict(validation_x)\n",
    "\n",
    "accuracy_score(validation_y, pred)"
   ]
  },
  {
   "cell_type": "markdown",
   "id": "a5af536c",
   "metadata": {},
   "source": [
    "We have got an even worse accuracy. Not let us try again with the counting, even though the results are probably going to be very similar."
   ]
  },
  {
   "cell_type": "code",
   "execution_count": 153,
   "id": "a513e179",
   "metadata": {},
   "outputs": [
    {
     "data": {
      "text/html": [
       "<style>#sk-container-id-4 {color: black;}#sk-container-id-4 pre{padding: 0;}#sk-container-id-4 div.sk-toggleable {background-color: white;}#sk-container-id-4 label.sk-toggleable__label {cursor: pointer;display: block;width: 100%;margin-bottom: 0;padding: 0.3em;box-sizing: border-box;text-align: center;}#sk-container-id-4 label.sk-toggleable__label-arrow:before {content: \"▸\";float: left;margin-right: 0.25em;color: #696969;}#sk-container-id-4 label.sk-toggleable__label-arrow:hover:before {color: black;}#sk-container-id-4 div.sk-estimator:hover label.sk-toggleable__label-arrow:before {color: black;}#sk-container-id-4 div.sk-toggleable__content {max-height: 0;max-width: 0;overflow: hidden;text-align: left;background-color: #f0f8ff;}#sk-container-id-4 div.sk-toggleable__content pre {margin: 0.2em;color: black;border-radius: 0.25em;background-color: #f0f8ff;}#sk-container-id-4 input.sk-toggleable__control:checked~div.sk-toggleable__content {max-height: 200px;max-width: 100%;overflow: auto;}#sk-container-id-4 input.sk-toggleable__control:checked~label.sk-toggleable__label-arrow:before {content: \"▾\";}#sk-container-id-4 div.sk-estimator input.sk-toggleable__control:checked~label.sk-toggleable__label {background-color: #d4ebff;}#sk-container-id-4 div.sk-label input.sk-toggleable__control:checked~label.sk-toggleable__label {background-color: #d4ebff;}#sk-container-id-4 input.sk-hidden--visually {border: 0;clip: rect(1px 1px 1px 1px);clip: rect(1px, 1px, 1px, 1px);height: 1px;margin: -1px;overflow: hidden;padding: 0;position: absolute;width: 1px;}#sk-container-id-4 div.sk-estimator {font-family: monospace;background-color: #f0f8ff;border: 1px dotted black;border-radius: 0.25em;box-sizing: border-box;margin-bottom: 0.5em;}#sk-container-id-4 div.sk-estimator:hover {background-color: #d4ebff;}#sk-container-id-4 div.sk-parallel-item::after {content: \"\";width: 100%;border-bottom: 1px solid gray;flex-grow: 1;}#sk-container-id-4 div.sk-label:hover label.sk-toggleable__label {background-color: #d4ebff;}#sk-container-id-4 div.sk-serial::before {content: \"\";position: absolute;border-left: 1px solid gray;box-sizing: border-box;top: 0;bottom: 0;left: 50%;z-index: 0;}#sk-container-id-4 div.sk-serial {display: flex;flex-direction: column;align-items: center;background-color: white;padding-right: 0.2em;padding-left: 0.2em;position: relative;}#sk-container-id-4 div.sk-item {position: relative;z-index: 1;}#sk-container-id-4 div.sk-parallel {display: flex;align-items: stretch;justify-content: center;background-color: white;position: relative;}#sk-container-id-4 div.sk-item::before, #sk-container-id-4 div.sk-parallel-item::before {content: \"\";position: absolute;border-left: 1px solid gray;box-sizing: border-box;top: 0;bottom: 0;left: 50%;z-index: -1;}#sk-container-id-4 div.sk-parallel-item {display: flex;flex-direction: column;z-index: 1;position: relative;background-color: white;}#sk-container-id-4 div.sk-parallel-item:first-child::after {align-self: flex-end;width: 50%;}#sk-container-id-4 div.sk-parallel-item:last-child::after {align-self: flex-start;width: 50%;}#sk-container-id-4 div.sk-parallel-item:only-child::after {width: 0;}#sk-container-id-4 div.sk-dashed-wrapped {border: 1px dashed gray;margin: 0 0.4em 0.5em 0.4em;box-sizing: border-box;padding-bottom: 0.4em;background-color: white;}#sk-container-id-4 div.sk-label label {font-family: monospace;font-weight: bold;display: inline-block;line-height: 1.2em;}#sk-container-id-4 div.sk-label-container {text-align: center;}#sk-container-id-4 div.sk-container {/* jupyter's `normalize.less` sets `[hidden] { display: none; }` but bootstrap.min.css set `[hidden] { display: none !important; }` so we also need the `!important` here to be able to override the default hidden behavior on the sphinx rendered scikit-learn.org. See: https://github.com/scikit-learn/scikit-learn/issues/21755 */display: inline-block !important;position: relative;}#sk-container-id-4 div.sk-text-repr-fallback {display: none;}</style><div id=\"sk-container-id-4\" class=\"sk-top-container\"><div class=\"sk-text-repr-fallback\"><pre>SVC(kernel=&#x27;linear&#x27;, random_state=1234)</pre><b>In a Jupyter environment, please rerun this cell to show the HTML representation or trust the notebook. <br />On GitHub, the HTML representation is unable to render, please try loading this page with nbviewer.org.</b></div><div class=\"sk-container\" hidden><div class=\"sk-item\"><div class=\"sk-estimator sk-toggleable\"><input class=\"sk-toggleable__control sk-hidden--visually\" id=\"sk-estimator-id-4\" type=\"checkbox\" checked><label for=\"sk-estimator-id-4\" class=\"sk-toggleable__label sk-toggleable__label-arrow\">SVC</label><div class=\"sk-toggleable__content\"><pre>SVC(kernel=&#x27;linear&#x27;, random_state=1234)</pre></div></div></div></div></div>"
      ],
      "text/plain": [
       "SVC(kernel='linear', random_state=1234)"
      ]
     },
     "execution_count": 153,
     "metadata": {},
     "output_type": "execute_result"
    }
   ],
   "source": [
    "vectorizer = CountVectorizer(ngram_range=(1,2))\n",
    "train_x = vectorizer.fit_transform(train_df['reviewText'])\n",
    "train_y = train_df['category']\n",
    "\n",
    "clf = svm.SVC(kernel='linear', random_state=1234)\n",
    "clf.fit(train_x, train_y)"
   ]
  },
  {
   "cell_type": "code",
   "execution_count": 154,
   "id": "a629832e",
   "metadata": {},
   "outputs": [
    {
     "data": {
      "text/plain": [
       "0.62"
      ]
     },
     "execution_count": 154,
     "metadata": {},
     "output_type": "execute_result"
    }
   ],
   "source": [
    "validation_x = vectorizer.transform(validation_df['reviewText'])\n",
    "validation_y = validation_df['category']\n",
    "pred = clf.predict(validation_x)\n",
    "\n",
    "accuracy_score(validation_y, pred)"
   ]
  },
  {
   "cell_type": "markdown",
   "id": "45e9644a",
   "metadata": {},
   "source": [
    "As expected, the accuracy didn't change as much. Let us try a different technique now. We will be using the word vectors approach, which is explained [here](https://towardsdatascience.com/word-vectors-and-word-meaning-90493d13af76). We are going to use a pre trained model from the spacy package.\n",
    "\n",
    "### Word vectors\n",
    "\n",
    "First, we need to get an english trained model. Then we are going to get the reviews representation and train our SVM model."
   ]
  },
  {
   "cell_type": "code",
   "execution_count": 159,
   "id": "3e21cfcb",
   "metadata": {},
   "outputs": [],
   "source": [
    "nlp = spacy.load(\"en_core_web_md\")\n",
    "#docs = [nlp(text) for text in train_x]\n",
    "#train_x_word_vectors = [x.vector for x in docs]\n",
    "train_x = train_df['reviewText'].apply(lambda x: nlp(x).vector)"
   ]
  },
  {
   "cell_type": "code",
   "execution_count": 169,
   "id": "df27d753",
   "metadata": {},
   "outputs": [
    {
     "data": {
      "text/plain": [
       "300"
      ]
     },
     "execution_count": 169,
     "metadata": {},
     "output_type": "execute_result"
    }
   ],
   "source": [
    "len(train_x.iloc[17654])"
   ]
  },
  {
   "cell_type": "code",
   "execution_count": 170,
   "id": "5b3c64a2",
   "metadata": {},
   "outputs": [
    {
     "data": {
      "text/html": [
       "<style>#sk-container-id-5 {color: black;}#sk-container-id-5 pre{padding: 0;}#sk-container-id-5 div.sk-toggleable {background-color: white;}#sk-container-id-5 label.sk-toggleable__label {cursor: pointer;display: block;width: 100%;margin-bottom: 0;padding: 0.3em;box-sizing: border-box;text-align: center;}#sk-container-id-5 label.sk-toggleable__label-arrow:before {content: \"▸\";float: left;margin-right: 0.25em;color: #696969;}#sk-container-id-5 label.sk-toggleable__label-arrow:hover:before {color: black;}#sk-container-id-5 div.sk-estimator:hover label.sk-toggleable__label-arrow:before {color: black;}#sk-container-id-5 div.sk-toggleable__content {max-height: 0;max-width: 0;overflow: hidden;text-align: left;background-color: #f0f8ff;}#sk-container-id-5 div.sk-toggleable__content pre {margin: 0.2em;color: black;border-radius: 0.25em;background-color: #f0f8ff;}#sk-container-id-5 input.sk-toggleable__control:checked~div.sk-toggleable__content {max-height: 200px;max-width: 100%;overflow: auto;}#sk-container-id-5 input.sk-toggleable__control:checked~label.sk-toggleable__label-arrow:before {content: \"▾\";}#sk-container-id-5 div.sk-estimator input.sk-toggleable__control:checked~label.sk-toggleable__label {background-color: #d4ebff;}#sk-container-id-5 div.sk-label input.sk-toggleable__control:checked~label.sk-toggleable__label {background-color: #d4ebff;}#sk-container-id-5 input.sk-hidden--visually {border: 0;clip: rect(1px 1px 1px 1px);clip: rect(1px, 1px, 1px, 1px);height: 1px;margin: -1px;overflow: hidden;padding: 0;position: absolute;width: 1px;}#sk-container-id-5 div.sk-estimator {font-family: monospace;background-color: #f0f8ff;border: 1px dotted black;border-radius: 0.25em;box-sizing: border-box;margin-bottom: 0.5em;}#sk-container-id-5 div.sk-estimator:hover {background-color: #d4ebff;}#sk-container-id-5 div.sk-parallel-item::after {content: \"\";width: 100%;border-bottom: 1px solid gray;flex-grow: 1;}#sk-container-id-5 div.sk-label:hover label.sk-toggleable__label {background-color: #d4ebff;}#sk-container-id-5 div.sk-serial::before {content: \"\";position: absolute;border-left: 1px solid gray;box-sizing: border-box;top: 0;bottom: 0;left: 50%;z-index: 0;}#sk-container-id-5 div.sk-serial {display: flex;flex-direction: column;align-items: center;background-color: white;padding-right: 0.2em;padding-left: 0.2em;position: relative;}#sk-container-id-5 div.sk-item {position: relative;z-index: 1;}#sk-container-id-5 div.sk-parallel {display: flex;align-items: stretch;justify-content: center;background-color: white;position: relative;}#sk-container-id-5 div.sk-item::before, #sk-container-id-5 div.sk-parallel-item::before {content: \"\";position: absolute;border-left: 1px solid gray;box-sizing: border-box;top: 0;bottom: 0;left: 50%;z-index: -1;}#sk-container-id-5 div.sk-parallel-item {display: flex;flex-direction: column;z-index: 1;position: relative;background-color: white;}#sk-container-id-5 div.sk-parallel-item:first-child::after {align-self: flex-end;width: 50%;}#sk-container-id-5 div.sk-parallel-item:last-child::after {align-self: flex-start;width: 50%;}#sk-container-id-5 div.sk-parallel-item:only-child::after {width: 0;}#sk-container-id-5 div.sk-dashed-wrapped {border: 1px dashed gray;margin: 0 0.4em 0.5em 0.4em;box-sizing: border-box;padding-bottom: 0.4em;background-color: white;}#sk-container-id-5 div.sk-label label {font-family: monospace;font-weight: bold;display: inline-block;line-height: 1.2em;}#sk-container-id-5 div.sk-label-container {text-align: center;}#sk-container-id-5 div.sk-container {/* jupyter's `normalize.less` sets `[hidden] { display: none; }` but bootstrap.min.css set `[hidden] { display: none !important; }` so we also need the `!important` here to be able to override the default hidden behavior on the sphinx rendered scikit-learn.org. See: https://github.com/scikit-learn/scikit-learn/issues/21755 */display: inline-block !important;position: relative;}#sk-container-id-5 div.sk-text-repr-fallback {display: none;}</style><div id=\"sk-container-id-5\" class=\"sk-top-container\"><div class=\"sk-text-repr-fallback\"><pre>SVC(kernel=&#x27;linear&#x27;, random_state=1234)</pre><b>In a Jupyter environment, please rerun this cell to show the HTML representation or trust the notebook. <br />On GitHub, the HTML representation is unable to render, please try loading this page with nbviewer.org.</b></div><div class=\"sk-container\" hidden><div class=\"sk-item\"><div class=\"sk-estimator sk-toggleable\"><input class=\"sk-toggleable__control sk-hidden--visually\" id=\"sk-estimator-id-5\" type=\"checkbox\" checked><label for=\"sk-estimator-id-5\" class=\"sk-toggleable__label sk-toggleable__label-arrow\">SVC</label><div class=\"sk-toggleable__content\"><pre>SVC(kernel=&#x27;linear&#x27;, random_state=1234)</pre></div></div></div></div></div>"
      ],
      "text/plain": [
       "SVC(kernel='linear', random_state=1234)"
      ]
     },
     "execution_count": 170,
     "metadata": {},
     "output_type": "execute_result"
    }
   ],
   "source": [
    "train_y = train_df['category']\n",
    "\n",
    "clf = svm.SVC(kernel='linear', random_state=1234)\n",
    "clf.fit(list(train_x), train_y)"
   ]
  },
  {
   "cell_type": "code",
   "execution_count": 171,
   "id": "927fc29c",
   "metadata": {},
   "outputs": [
    {
     "data": {
      "text/plain": [
       "0.6828888888888889"
      ]
     },
     "execution_count": 171,
     "metadata": {},
     "output_type": "execute_result"
    }
   ],
   "source": [
    "validation_x = validation_df['reviewText'].apply(lambda x: nlp(x).vector)\n",
    "validation_y = validation_df['category']\n",
    "pred = clf.predict(list(validation_x))\n",
    "\n",
    "accuracy_score(validation_y, pred)"
   ]
  },
  {
   "cell_type": "code",
   "execution_count": 173,
   "id": "92716d5a",
   "metadata": {},
   "outputs": [
    {
     "data": {
      "text/plain": [
       "array(['Books'], dtype=object)"
      ]
     },
     "execution_count": 173,
     "metadata": {},
     "output_type": "execute_result"
    }
   ],
   "source": [
    "clf.predict([nlp('i like story').vector])"
   ]
  },
  {
   "cell_type": "code",
   "execution_count": 176,
   "id": "7568ef63",
   "metadata": {},
   "outputs": [
    {
     "data": {
      "text/plain": [
       "array([-0.6214337 ,  0.2888258 , -3.2300901 , -0.93520683,  2.207672  ,\n",
       "        0.95901906,  0.12249144,  3.2063603 , -2.0936892 ,  1.1148852 ,\n",
       "        5.0563474 ,  1.7135935 , -3.9678757 ,  1.4762245 ,  1.149085  ,\n",
       "       -1.3029765 ,  1.6195872 , -1.4450793 , -0.87717205, -1.3077561 ,\n",
       "        0.8333802 ,  0.32594812, -1.0239401 , -1.8591763 , -1.0053483 ,\n",
       "       -1.2909113 , -2.279815  , -1.0925463 , -0.7533903 ,  1.3045331 ,\n",
       "        0.94079626, -1.9479262 , -0.6206791 , -0.87162095, -0.17165014,\n",
       "        0.4191171 , -0.26517233,  0.7541334 ,  3.2056208 ,  1.8574672 ,\n",
       "        0.05325661,  1.0791144 ,  0.18593225, -1.370542  , -0.66602176,\n",
       "        1.304664  ,  0.41699854, -2.441328  , -0.9756064 ,  0.5024555 ,\n",
       "        0.00898688,  0.22571865,  0.47266847, -3.9313953 , -1.4766183 ,\n",
       "       -0.49231428,  0.07823862,  1.4399368 ,  0.5581441 ,  0.46420747,\n",
       "        2.8159783 , -0.76833206, -0.19428353, -1.4792243 ,  0.28354523,\n",
       "        1.0847745 , -2.4992309 , -4.1040955 ,  0.02688731,  2.6645942 ,\n",
       "       -0.16328059, -0.4778238 , -1.5913236 , -0.7124902 ,  1.8249404 ,\n",
       "        1.4205426 , -1.8157507 ,  0.6063068 , -1.0854414 , -0.54063034,\n",
       "       -2.9839687 ,  0.15498708,  1.7110136 ,  0.3096498 ,  1.4742917 ,\n",
       "       -0.89247704, -0.3799395 , -1.8816252 ,  0.82667565, -0.6625107 ,\n",
       "       -1.6164825 ,  1.035178  ,  1.428561  , -4.073267  ,  0.7170994 ,\n",
       "       -1.4051394 ,  0.82687575, -1.5332209 ,  0.4594189 ,  0.40253228,\n",
       "        1.9161769 ,  2.0978427 ,  0.8860613 ,  2.2442517 , -0.64403707,\n",
       "        3.7160041 , -0.7327405 , -0.82459474, -1.2665573 , -1.0990491 ,\n",
       "        0.93507296, -0.82695645,  0.18171234, -0.2617838 ,  0.29373592,\n",
       "        2.039809  , -0.4782877 , -0.7912332 ,  1.3180289 , -1.0869712 ,\n",
       "       -2.2309484 , -1.9337374 , -1.678615  ,  2.106301  ,  0.36341968,\n",
       "       -1.5295464 ,  1.5641193 , -2.65416   ,  1.6071078 , -1.0229467 ,\n",
       "       -2.5653677 ,  0.9752684 ,  3.0156717 , -2.166716  , -0.37674955,\n",
       "       -0.29859233, -1.892821  , -2.7783964 ,  3.4329078 , -2.366811  ,\n",
       "       -1.0266355 , -0.4138245 ,  1.1320715 ,  1.2696728 , -1.9020754 ,\n",
       "        0.5808755 , -1.0236561 ,  0.6828585 ,  0.38449422,  0.08231974,\n",
       "       -0.8550508 ,  2.6187253 , -0.08141909,  1.438723  , -1.2901912 ,\n",
       "        1.1670837 ,  4.1988244 ,  0.9357649 , -1.740626  , -1.033787  ,\n",
       "       -0.9051429 , -2.6151602 , -1.309294  ,  1.8117772 , -1.913478  ,\n",
       "       -0.613381  , -1.7609646 ,  0.75888187, -0.42602435,  0.55620927,\n",
       "        1.6624547 , -0.26035643,  1.8125119 ,  0.3052252 ,  2.1283438 ,\n",
       "       -1.1575544 , -1.1518552 ,  0.77369565, -0.77603525, -1.8544121 ,\n",
       "       -0.1582324 ,  0.286685  ,  3.0648587 , -2.476816  , -2.0059936 ,\n",
       "        0.31216815, -1.0585421 , -2.6890078 ,  0.14323518,  1.6278864 ,\n",
       "       -1.016567  ,  0.9782759 , -1.8879652 , -1.8717546 , -0.7285221 ,\n",
       "       -1.0676397 , -2.581532  ,  0.21113445, -0.46104658,  0.70406437,\n",
       "       -1.8751179 , -0.8666882 , -1.430412  , -1.5283011 ,  0.6999829 ,\n",
       "        0.6600173 , -2.3603249 ,  1.8466313 , -0.07728966, -1.9493161 ,\n",
       "        2.5444155 , -0.14688201,  0.23051846,  0.8753741 , -1.1284848 ,\n",
       "        2.483673  , -0.98269755, -1.2410856 , -0.5544999 ,  0.96335906,\n",
       "       -1.8785088 ,  0.5487141 , -0.4179387 ,  0.83525527, -0.43760327,\n",
       "       -2.3879776 ,  0.6920307 ,  2.1817434 ,  2.7233138 ,  0.8239591 ,\n",
       "       -0.808864  , -3.6143267 ,  0.14066528,  0.357806  ,  0.9387261 ,\n",
       "        1.9098322 , -2.093571  ,  2.2199178 ,  0.38664863,  0.18514155,\n",
       "       -3.0204003 , -1.0440406 ,  1.0872664 ,  0.7939129 , -1.1345109 ,\n",
       "        0.32238862, -2.1907415 , -0.33560604,  0.45424762,  2.052193  ,\n",
       "       -0.4166994 , -0.18221074, -4.688524  , -0.4202265 ,  0.31729186,\n",
       "       -3.1618125 ,  1.9792447 , -0.27842894, -1.8606426 ,  0.9135415 ,\n",
       "        0.02117755,  3.4573452 ,  1.2032384 ,  2.996812  ,  2.0022857 ,\n",
       "        0.20239706,  0.03041251,  0.9649964 , -3.9655063 ,  0.50315714,\n",
       "        1.1298591 , -1.4638075 , -1.1532457 , -0.6136912 , -0.40459782,\n",
       "       -1.368627  ,  1.5374435 , -1.2385222 , -0.5719615 ,  2.7407298 ,\n",
       "       -1.2853947 , -0.21841602, -0.608908  ,  0.48820174,  3.0385103 ,\n",
       "       -0.53969103,  0.8429845 ,  1.561235  , -2.3152957 ,  1.0648257 ,\n",
       "        0.08231985, -0.38601625,  0.7073685 , -0.90247816, -1.5298135 ,\n",
       "        0.96113044, -0.34878755,  0.32366312, -2.794401  ,  0.26668262],\n",
       "      dtype=float32)"
      ]
     },
     "execution_count": 176,
     "metadata": {},
     "output_type": "execute_result"
    }
   ],
   "source": [
    "train_x.iloc[0]"
   ]
  }
 ],
 "metadata": {
  "kernelspec": {
   "display_name": "Python 3 (ipykernel)",
   "language": "python",
   "name": "python3"
  },
  "language_info": {
   "codemirror_mode": {
    "name": "ipython",
    "version": 3
   },
   "file_extension": ".py",
   "mimetype": "text/x-python",
   "name": "python",
   "nbconvert_exporter": "python",
   "pygments_lexer": "ipython3",
   "version": "3.11.5"
  }
 },
 "nbformat": 4,
 "nbformat_minor": 5
}
