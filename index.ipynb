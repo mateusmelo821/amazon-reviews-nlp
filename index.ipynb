{
 "cells": [
  {
   "cell_type": "markdown",
   "id": "17e28a1c",
   "metadata": {},
   "source": [
    "# Amazon Reviews Category Classification\n",
    "\n",
    "In this project, we are going to use some amazon reviews data, made available by [Keith Galli](https://github.com/KeithGalli/pycon2020), and NLP techniques in order to build a category classification model. This report is divided in 4 parts:\n",
    "\n",
    "* Setting up the data\n",
    "* Training the model\n",
    "* Evaluating the model\n",
    "* Conclusion\n",
    "\n",
    "## Setting up the data\n",
    "\n",
    "We start our project by loading the data and necessary packages. The data is was previously stored in a S3 bucket and it is already divided into 2 datasets, one for training and one for testing. The aws cli is already installed and setted up locall"
   ]
  },
  {
   "cell_type": "code",
   "execution_count": 109,
   "id": "1625245f",
   "metadata": {},
   "outputs": [
    {
     "data": {
      "text/plain": [
       "['train_Automotive.json',\n",
       " 'train_Beauty.json',\n",
       " 'train_Books.json',\n",
       " 'train_Clothing.json',\n",
       " 'train_Digital_Music.json',\n",
       " 'train_Electronics.json',\n",
       " 'train_Grocery.json',\n",
       " 'train_Patio_Lawn_Garden.json',\n",
       " 'train_Pet_Supplies.json']"
      ]
     },
     "execution_count": 109,
     "metadata": {},
     "output_type": "execute_result"
    }
   ],
   "source": [
    "import pandas as pd\n",
    "import numpy as np\n",
    "from sklearn.model_selection import train_test_split\n",
    "from sklearn.feature_extraction.text import CountVectorizer, TfidfVectorizer\n",
    "from sklearn.metrics import f1_score, accuracy_score\n",
    "from sklearn import svm\n",
    "import json\n",
    "import boto3\n",
    "\n",
    "bucket_name = 'melo-datascience-projects'\n",
    "training_path = 'nlp/amazon-reviews/training/'\n",
    "testing_path = 'nlp/amazon-reviews/test/'\n",
    "s3 = boto3.resource('s3')\n",
    "bucket = s3.Bucket(bucket_name)\n",
    "training_files = [file.key.replace(training_path, '') for file in bucket.objects.filter(Prefix=training_path)]\n",
    "training_files"
   ]
  },
  {
   "cell_type": "code",
   "execution_count": 107,
   "id": "a1287a09",
   "metadata": {},
   "outputs": [
    {
     "data": {
      "text/plain": [
       "['test_Automotive.json',\n",
       " 'test_Beauty.json',\n",
       " 'test_Books.json',\n",
       " 'test_Clothing.json',\n",
       " 'test_Digital_Music.json',\n",
       " 'test_Electronics.json',\n",
       " 'test_Grocery.json',\n",
       " 'test_Patio_Lawn_Garden.json',\n",
       " 'test_Pet_Supplies.json']"
      ]
     },
     "execution_count": 107,
     "metadata": {},
     "output_type": "execute_result"
    }
   ],
   "source": [
    "testing_files = [file.key.replace(testing_path, '') for file in bucket.objects.filter(Prefix=testing_path)]\n",
    "testing_files"
   ]
  },
  {
   "cell_type": "markdown",
   "id": "c7ab3c43",
   "metadata": {},
   "source": [
    "As we can see, both the training and testing datasets are divided in several files. Each file contains reviews for a specific category, which is going to be the prediction target of our model. The titles are self-descriptive. Let us read the files."
   ]
  },
  {
   "cell_type": "code",
   "execution_count": 112,
   "id": "9e73c217",
   "metadata": {},
   "outputs": [
    {
     "data": {
      "text/html": [
       "<div>\n",
       "<style scoped>\n",
       "    .dataframe tbody tr th:only-of-type {\n",
       "        vertical-align: middle;\n",
       "    }\n",
       "\n",
       "    .dataframe tbody tr th {\n",
       "        vertical-align: top;\n",
       "    }\n",
       "\n",
       "    .dataframe thead th {\n",
       "        text-align: right;\n",
       "    }\n",
       "</style>\n",
       "<table border=\"1\" class=\"dataframe\">\n",
       "  <thead>\n",
       "    <tr style=\"text-align: right;\">\n",
       "      <th></th>\n",
       "      <th>overall</th>\n",
       "      <th>verified</th>\n",
       "      <th>reviewTime</th>\n",
       "      <th>reviewerID</th>\n",
       "      <th>asin</th>\n",
       "      <th>style</th>\n",
       "      <th>reviewerName</th>\n",
       "      <th>reviewText</th>\n",
       "      <th>summary</th>\n",
       "      <th>unixReviewTime</th>\n",
       "      <th>vote</th>\n",
       "      <th>image</th>\n",
       "      <th>category</th>\n",
       "    </tr>\n",
       "  </thead>\n",
       "  <tbody>\n",
       "    <tr>\n",
       "      <th>22495</th>\n",
       "      <td>5</td>\n",
       "      <td>True</td>\n",
       "      <td>04 22, 2016</td>\n",
       "      <td>A34IOVL7T9YYSF</td>\n",
       "      <td>B0002H335A</td>\n",
       "      <td>{'Size:': ' 3 Ton'}</td>\n",
       "      <td>JAF</td>\n",
       "      <td>Exactly What I expected, delivered on time. Hi...</td>\n",
       "      <td>Highly Recommend.</td>\n",
       "      <td>1461283200</td>\n",
       "      <td>NaN</td>\n",
       "      <td>NaN</td>\n",
       "      <td>Automotive</td>\n",
       "    </tr>\n",
       "    <tr>\n",
       "      <th>22496</th>\n",
       "      <td>5</td>\n",
       "      <td>True</td>\n",
       "      <td>03 27, 2018</td>\n",
       "      <td>A1LTFR6UKP7N3Q</td>\n",
       "      <td>B000CITK8S</td>\n",
       "      <td>{'Size:': ' 12V @ 750mA', 'Color:': ' Black/Gr...</td>\n",
       "      <td>Bryan Hargrave</td>\n",
       "      <td>Got this thing taking care of my lawnmower bat...</td>\n",
       "      <td>... care of my lawnmower battery and it is wor...</td>\n",
       "      <td>1522108800</td>\n",
       "      <td>NaN</td>\n",
       "      <td>NaN</td>\n",
       "      <td>Automotive</td>\n",
       "    </tr>\n",
       "    <tr>\n",
       "      <th>22497</th>\n",
       "      <td>5</td>\n",
       "      <td>True</td>\n",
       "      <td>07 22, 2016</td>\n",
       "      <td>A10DPAG6XHKI25</td>\n",
       "      <td>B0006I0MVS</td>\n",
       "      <td>{'Size:': ' 1 inch Shaft', 'Color:': ' Beige'}</td>\n",
       "      <td>buyer</td>\n",
       "      <td>Great replacement for old brittle handles. As ...</td>\n",
       "      <td>Great replacement for old brittle handles</td>\n",
       "      <td>1469145600</td>\n",
       "      <td>NaN</td>\n",
       "      <td>NaN</td>\n",
       "      <td>Automotive</td>\n",
       "    </tr>\n",
       "    <tr>\n",
       "      <th>22498</th>\n",
       "      <td>5</td>\n",
       "      <td>True</td>\n",
       "      <td>10 11, 2016</td>\n",
       "      <td>A20JW9PWVAENUP</td>\n",
       "      <td>B000BUU5VS</td>\n",
       "      <td>{'Style:': ' Slide Out Lube'}</td>\n",
       "      <td>michael owens</td>\n",
       "      <td>great</td>\n",
       "      <td>great</td>\n",
       "      <td>1476144000</td>\n",
       "      <td>NaN</td>\n",
       "      <td>NaN</td>\n",
       "      <td>Automotive</td>\n",
       "    </tr>\n",
       "    <tr>\n",
       "      <th>22499</th>\n",
       "      <td>5</td>\n",
       "      <td>True</td>\n",
       "      <td>07 23, 2015</td>\n",
       "      <td>A30DC6PH6NJQL9</td>\n",
       "      <td>B00017YYI6</td>\n",
       "      <td>NaN</td>\n",
       "      <td>Susan</td>\n",
       "      <td>My husband likes it, he can fill air bags goin...</td>\n",
       "      <td>Five Stars</td>\n",
       "      <td>1437609600</td>\n",
       "      <td>NaN</td>\n",
       "      <td>NaN</td>\n",
       "      <td>Automotive</td>\n",
       "    </tr>\n",
       "  </tbody>\n",
       "</table>\n",
       "</div>"
      ],
      "text/plain": [
       "       overall  verified   reviewTime      reviewerID        asin  \\\n",
       "22495        5      True  04 22, 2016  A34IOVL7T9YYSF  B0002H335A   \n",
       "22496        5      True  03 27, 2018  A1LTFR6UKP7N3Q  B000CITK8S   \n",
       "22497        5      True  07 22, 2016  A10DPAG6XHKI25  B0006I0MVS   \n",
       "22498        5      True  10 11, 2016  A20JW9PWVAENUP  B000BUU5VS   \n",
       "22499        5      True  07 23, 2015  A30DC6PH6NJQL9  B00017YYI6   \n",
       "\n",
       "                                                   style    reviewerName  \\\n",
       "22495                                {'Size:': ' 3 Ton'}             JAF   \n",
       "22496  {'Size:': ' 12V @ 750mA', 'Color:': ' Black/Gr...  Bryan Hargrave   \n",
       "22497     {'Size:': ' 1 inch Shaft', 'Color:': ' Beige'}           buyer   \n",
       "22498                      {'Style:': ' Slide Out Lube'}   michael owens   \n",
       "22499                                                NaN           Susan   \n",
       "\n",
       "                                              reviewText  \\\n",
       "22495  Exactly What I expected, delivered on time. Hi...   \n",
       "22496  Got this thing taking care of my lawnmower bat...   \n",
       "22497  Great replacement for old brittle handles. As ...   \n",
       "22498                                              great   \n",
       "22499  My husband likes it, he can fill air bags goin...   \n",
       "\n",
       "                                                 summary  unixReviewTime  \\\n",
       "22495                                  Highly Recommend.      1461283200   \n",
       "22496  ... care of my lawnmower battery and it is wor...      1522108800   \n",
       "22497          Great replacement for old brittle handles      1469145600   \n",
       "22498                                              great      1476144000   \n",
       "22499                                         Five Stars      1437609600   \n",
       "\n",
       "       vote image    category  \n",
       "22495   NaN   NaN  Automotive  \n",
       "22496   NaN   NaN  Automotive  \n",
       "22497   NaN   NaN  Automotive  \n",
       "22498   NaN   NaN  Automotive  \n",
       "22499   NaN   NaN  Automotive  "
      ]
     },
     "execution_count": 112,
     "metadata": {},
     "output_type": "execute_result"
    }
   ],
   "source": [
    "train_df = pd.DataFrame()\n",
    "for file in training_files:\n",
    "    obj = s3.Object(bucket_name, training_path+file).get()['Body'].read()\n",
    "    train_df_aux = pd.read_json(obj.decode(), lines=True)\n",
    "    train_df_aux['category'] = file.strip('train_').split('.')[0]\n",
    "    train_df = pd.concat([train_df_aux, train_df], ignore_index=True)\n",
    "\n",
    "train_df.tail()"
   ]
  },
  {
   "cell_type": "code",
   "execution_count": 114,
   "id": "d4be735b",
   "metadata": {},
   "outputs": [
    {
     "data": {
      "text/html": [
       "<div>\n",
       "<style scoped>\n",
       "    .dataframe tbody tr th:only-of-type {\n",
       "        vertical-align: middle;\n",
       "    }\n",
       "\n",
       "    .dataframe tbody tr th {\n",
       "        vertical-align: top;\n",
       "    }\n",
       "\n",
       "    .dataframe thead th {\n",
       "        text-align: right;\n",
       "    }\n",
       "</style>\n",
       "<table border=\"1\" class=\"dataframe\">\n",
       "  <thead>\n",
       "    <tr style=\"text-align: right;\">\n",
       "      <th></th>\n",
       "      <th>overall</th>\n",
       "      <th>verified</th>\n",
       "      <th>reviewTime</th>\n",
       "      <th>reviewerID</th>\n",
       "      <th>asin</th>\n",
       "      <th>reviewerName</th>\n",
       "      <th>reviewText</th>\n",
       "      <th>summary</th>\n",
       "      <th>unixReviewTime</th>\n",
       "      <th>style</th>\n",
       "      <th>vote</th>\n",
       "      <th>image</th>\n",
       "      <th>category</th>\n",
       "    </tr>\n",
       "  </thead>\n",
       "  <tbody>\n",
       "    <tr>\n",
       "      <th>4495</th>\n",
       "      <td>5</td>\n",
       "      <td>True</td>\n",
       "      <td>08 26, 2015</td>\n",
       "      <td>A1SRL9RS46YFNY</td>\n",
       "      <td>B0000AXS24</td>\n",
       "      <td>pedro vazquez</td>\n",
       "      <td>Good productos</td>\n",
       "      <td>Five Stars</td>\n",
       "      <td>1440547200</td>\n",
       "      <td>{'Color:': ' Black'}</td>\n",
       "      <td>NaN</td>\n",
       "      <td>NaN</td>\n",
       "      <td>Automotive</td>\n",
       "    </tr>\n",
       "    <tr>\n",
       "      <th>4496</th>\n",
       "      <td>5</td>\n",
       "      <td>True</td>\n",
       "      <td>08 7, 2017</td>\n",
       "      <td>AYNPB2QQS2QUF</td>\n",
       "      <td>B000CONU1K</td>\n",
       "      <td>dino77dan</td>\n",
       "      <td>Easy to install. Highly re ommended.</td>\n",
       "      <td>Good quality locks.</td>\n",
       "      <td>1502064000</td>\n",
       "      <td>NaN</td>\n",
       "      <td>NaN</td>\n",
       "      <td>NaN</td>\n",
       "      <td>Automotive</td>\n",
       "    </tr>\n",
       "    <tr>\n",
       "      <th>4497</th>\n",
       "      <td>5</td>\n",
       "      <td>True</td>\n",
       "      <td>11 1, 2015</td>\n",
       "      <td>A28YJ3RXJM0R5P</td>\n",
       "      <td>B00062YCGA</td>\n",
       "      <td>Michael</td>\n",
       "      <td>Awesome price for such good oil!</td>\n",
       "      <td>Five Stars</td>\n",
       "      <td>1446336000</td>\n",
       "      <td>{'Size:': ' 5 Quart'}</td>\n",
       "      <td>NaN</td>\n",
       "      <td>NaN</td>\n",
       "      <td>Automotive</td>\n",
       "    </tr>\n",
       "    <tr>\n",
       "      <th>4498</th>\n",
       "      <td>5</td>\n",
       "      <td>True</td>\n",
       "      <td>08 23, 2010</td>\n",
       "      <td>AJU1HQWCM13Y8</td>\n",
       "      <td>B000CPAEJA</td>\n",
       "      <td>John Dowdell</td>\n",
       "      <td>High quality CV joint grease. I use this greas...</td>\n",
       "      <td>High quality CV joint grease</td>\n",
       "      <td>1282521600</td>\n",
       "      <td>{'Item Package Quantity:': ' 1', 'Package Quan...</td>\n",
       "      <td>8.0</td>\n",
       "      <td>NaN</td>\n",
       "      <td>Automotive</td>\n",
       "    </tr>\n",
       "    <tr>\n",
       "      <th>4499</th>\n",
       "      <td>4</td>\n",
       "      <td>True</td>\n",
       "      <td>07 5, 2014</td>\n",
       "      <td>A2G7YC89EHUP2G</td>\n",
       "      <td>B000C9WL6A</td>\n",
       "      <td>review</td>\n",
       "      <td>Well made</td>\n",
       "      <td>Four Stars</td>\n",
       "      <td>1404518400</td>\n",
       "      <td>{'Item Package Quantity:': ' 1', 'Package Quan...</td>\n",
       "      <td>NaN</td>\n",
       "      <td>NaN</td>\n",
       "      <td>Automotive</td>\n",
       "    </tr>\n",
       "  </tbody>\n",
       "</table>\n",
       "</div>"
      ],
      "text/plain": [
       "      overall  verified   reviewTime      reviewerID        asin  \\\n",
       "4495        5      True  08 26, 2015  A1SRL9RS46YFNY  B0000AXS24   \n",
       "4496        5      True   08 7, 2017   AYNPB2QQS2QUF  B000CONU1K   \n",
       "4497        5      True   11 1, 2015  A28YJ3RXJM0R5P  B00062YCGA   \n",
       "4498        5      True  08 23, 2010   AJU1HQWCM13Y8  B000CPAEJA   \n",
       "4499        4      True   07 5, 2014  A2G7YC89EHUP2G  B000C9WL6A   \n",
       "\n",
       "       reviewerName                                         reviewText  \\\n",
       "4495  pedro vazquez                                     Good productos   \n",
       "4496      dino77dan               Easy to install. Highly re ommended.   \n",
       "4497        Michael                   Awesome price for such good oil!   \n",
       "4498   John Dowdell  High quality CV joint grease. I use this greas...   \n",
       "4499         review                                          Well made   \n",
       "\n",
       "                           summary  unixReviewTime  \\\n",
       "4495                    Five Stars      1440547200   \n",
       "4496           Good quality locks.      1502064000   \n",
       "4497                    Five Stars      1446336000   \n",
       "4498  High quality CV joint grease      1282521600   \n",
       "4499                    Four Stars      1404518400   \n",
       "\n",
       "                                                  style  vote image  \\\n",
       "4495                               {'Color:': ' Black'}   NaN   NaN   \n",
       "4496                                                NaN   NaN   NaN   \n",
       "4497                              {'Size:': ' 5 Quart'}   NaN   NaN   \n",
       "4498  {'Item Package Quantity:': ' 1', 'Package Quan...   8.0   NaN   \n",
       "4499  {'Item Package Quantity:': ' 1', 'Package Quan...   NaN   NaN   \n",
       "\n",
       "        category  \n",
       "4495  Automotive  \n",
       "4496  Automotive  \n",
       "4497  Automotive  \n",
       "4498  Automotive  \n",
       "4499  Automotive  "
      ]
     },
     "execution_count": 114,
     "metadata": {},
     "output_type": "execute_result"
    }
   ],
   "source": [
    "test_df = pd.DataFrame()\n",
    "for file in testing_files:\n",
    "    obj = s3.Object(bucket_name, testing_path+file).get()['Body'].read()\n",
    "    test_df_aux = pd.read_json(obj.decode(), lines=True)\n",
    "    test_df_aux['category'] = file.strip('test_').split('.')[0]\n",
    "    test_df = pd.concat([test_df_aux, test_df], ignore_index=True)\n",
    "\n",
    "test_df.tail()"
   ]
  },
  {
   "cell_type": "markdown",
   "id": "b38db60a",
   "metadata": {},
   "source": [
    "We have 22500 rows for training and 4500 for testing. We also have several columns, but we will only be using 2: reviewText and category. Let us remove the unnecessary columns. We will also check the category proportions."
   ]
  },
  {
   "cell_type": "code",
   "execution_count": 115,
   "id": "48bcc282",
   "metadata": {},
   "outputs": [
    {
     "data": {
      "text/html": [
       "<div>\n",
       "<style scoped>\n",
       "    .dataframe tbody tr th:only-of-type {\n",
       "        vertical-align: middle;\n",
       "    }\n",
       "\n",
       "    .dataframe tbody tr th {\n",
       "        vertical-align: top;\n",
       "    }\n",
       "\n",
       "    .dataframe thead th {\n",
       "        text-align: right;\n",
       "    }\n",
       "</style>\n",
       "<table border=\"1\" class=\"dataframe\">\n",
       "  <thead>\n",
       "    <tr style=\"text-align: right;\">\n",
       "      <th></th>\n",
       "      <th>reviewText</th>\n",
       "      <th>category</th>\n",
       "    </tr>\n",
       "  </thead>\n",
       "  <tbody>\n",
       "    <tr>\n",
       "      <th>22495</th>\n",
       "      <td>Exactly What I expected, delivered on time. Hi...</td>\n",
       "      <td>Automotive</td>\n",
       "    </tr>\n",
       "    <tr>\n",
       "      <th>22496</th>\n",
       "      <td>Got this thing taking care of my lawnmower bat...</td>\n",
       "      <td>Automotive</td>\n",
       "    </tr>\n",
       "    <tr>\n",
       "      <th>22497</th>\n",
       "      <td>Great replacement for old brittle handles. As ...</td>\n",
       "      <td>Automotive</td>\n",
       "    </tr>\n",
       "    <tr>\n",
       "      <th>22498</th>\n",
       "      <td>great</td>\n",
       "      <td>Automotive</td>\n",
       "    </tr>\n",
       "    <tr>\n",
       "      <th>22499</th>\n",
       "      <td>My husband likes it, he can fill air bags goin...</td>\n",
       "      <td>Automotive</td>\n",
       "    </tr>\n",
       "  </tbody>\n",
       "</table>\n",
       "</div>"
      ],
      "text/plain": [
       "                                              reviewText    category\n",
       "22495  Exactly What I expected, delivered on time. Hi...  Automotive\n",
       "22496  Got this thing taking care of my lawnmower bat...  Automotive\n",
       "22497  Great replacement for old brittle handles. As ...  Automotive\n",
       "22498                                              great  Automotive\n",
       "22499  My husband likes it, he can fill air bags goin...  Automotive"
      ]
     },
     "execution_count": 115,
     "metadata": {},
     "output_type": "execute_result"
    }
   ],
   "source": [
    "columns = ['reviewText', 'category']\n",
    "train_df = train_df[columns]\n",
    "test_df = test_df[columns]\n",
    "\n",
    "train_df.tail()"
   ]
  },
  {
   "cell_type": "code",
   "execution_count": 116,
   "id": "93d1fda7",
   "metadata": {},
   "outputs": [
    {
     "data": {
      "text/html": [
       "<div>\n",
       "<style scoped>\n",
       "    .dataframe tbody tr th:only-of-type {\n",
       "        vertical-align: middle;\n",
       "    }\n",
       "\n",
       "    .dataframe tbody tr th {\n",
       "        vertical-align: top;\n",
       "    }\n",
       "\n",
       "    .dataframe thead th {\n",
       "        text-align: right;\n",
       "    }\n",
       "</style>\n",
       "<table border=\"1\" class=\"dataframe\">\n",
       "  <thead>\n",
       "    <tr style=\"text-align: right;\">\n",
       "      <th></th>\n",
       "      <th>reviewText</th>\n",
       "      <th>category</th>\n",
       "    </tr>\n",
       "  </thead>\n",
       "  <tbody>\n",
       "    <tr>\n",
       "      <th>4495</th>\n",
       "      <td>Good productos</td>\n",
       "      <td>Automotive</td>\n",
       "    </tr>\n",
       "    <tr>\n",
       "      <th>4496</th>\n",
       "      <td>Easy to install. Highly re ommended.</td>\n",
       "      <td>Automotive</td>\n",
       "    </tr>\n",
       "    <tr>\n",
       "      <th>4497</th>\n",
       "      <td>Awesome price for such good oil!</td>\n",
       "      <td>Automotive</td>\n",
       "    </tr>\n",
       "    <tr>\n",
       "      <th>4498</th>\n",
       "      <td>High quality CV joint grease. I use this greas...</td>\n",
       "      <td>Automotive</td>\n",
       "    </tr>\n",
       "    <tr>\n",
       "      <th>4499</th>\n",
       "      <td>Well made</td>\n",
       "      <td>Automotive</td>\n",
       "    </tr>\n",
       "  </tbody>\n",
       "</table>\n",
       "</div>"
      ],
      "text/plain": [
       "                                             reviewText    category\n",
       "4495                                     Good productos  Automotive\n",
       "4496               Easy to install. Highly re ommended.  Automotive\n",
       "4497                   Awesome price for such good oil!  Automotive\n",
       "4498  High quality CV joint grease. I use this greas...  Automotive\n",
       "4499                                          Well made  Automotive"
      ]
     },
     "execution_count": 116,
     "metadata": {},
     "output_type": "execute_result"
    }
   ],
   "source": [
    "test_df.tail()"
   ]
  },
  {
   "cell_type": "code",
   "execution_count": 118,
   "id": "ac5d3e9d",
   "metadata": {},
   "outputs": [
    {
     "data": {
      "text/plain": [
       "category\n",
       "Automotive           2500\n",
       "Beauty               2500\n",
       "Books                2500\n",
       "Clothing             2500\n",
       "Digital_Music        2500\n",
       "Electronics          2500\n",
       "Grocery              2500\n",
       "Patio_Lawn_Garden    2500\n",
       "Pet_Supplies         2500\n",
       "Name: reviewText, dtype: int64"
      ]
     },
     "execution_count": 118,
     "metadata": {},
     "output_type": "execute_result"
    }
   ],
   "source": [
    "train_df.groupby('category')['reviewText'].count()"
   ]
  },
  {
   "cell_type": "code",
   "execution_count": 121,
   "id": "bfc0037c",
   "metadata": {},
   "outputs": [
    {
     "data": {
      "text/plain": [
       "category\n",
       "Automotive           500\n",
       "Beauty               500\n",
       "Books                500\n",
       "Clothing             500\n",
       "Digital_Music        500\n",
       "Electronics          500\n",
       "Grocery              500\n",
       "Patio_Lawn_Garden    500\n",
       "Pet_Supplies         500\n",
       "Name: reviewText, dtype: int64"
      ]
     },
     "execution_count": 121,
     "metadata": {},
     "output_type": "execute_result"
    }
   ],
   "source": [
    "test_df.groupby('category')['reviewText'].count()"
   ]
  },
  {
   "cell_type": "markdown",
   "id": "3ad4f98f",
   "metadata": {},
   "source": [
    "The data is perfectly balanced. Let us check if there are some null or blank values and that will finish this part."
   ]
  },
  {
   "cell_type": "code",
   "execution_count": 122,
   "id": "b3b05aef",
   "metadata": {},
   "outputs": [
    {
     "data": {
      "text/plain": [
       "0"
      ]
     },
     "execution_count": 122,
     "metadata": {},
     "output_type": "execute_result"
    }
   ],
   "source": [
    "train_df['reviewText'].isna().sum()"
   ]
  },
  {
   "cell_type": "code",
   "execution_count": 123,
   "id": "81eb9486",
   "metadata": {},
   "outputs": [
    {
     "data": {
      "text/plain": [
       "0"
      ]
     },
     "execution_count": 123,
     "metadata": {},
     "output_type": "execute_result"
    }
   ],
   "source": [
    "test_df['reviewText'].isna().sum()"
   ]
  },
  {
   "cell_type": "code",
   "execution_count": 125,
   "id": "553ebe48",
   "metadata": {},
   "outputs": [
    {
     "data": {
      "text/plain": [
       "0"
      ]
     },
     "execution_count": 125,
     "metadata": {},
     "output_type": "execute_result"
    }
   ],
   "source": [
    "sum(train_df['reviewText']=='')"
   ]
  },
  {
   "cell_type": "code",
   "execution_count": 126,
   "id": "379b397f",
   "metadata": {},
   "outputs": [
    {
     "data": {
      "text/plain": [
       "0"
      ]
     },
     "execution_count": 126,
     "metadata": {},
     "output_type": "execute_result"
    }
   ],
   "source": [
    "sum(test_df['reviewText']=='')"
   ]
  },
  {
   "cell_type": "markdown",
   "id": "5ca5d234",
   "metadata": {},
   "source": [
    "## Training the model"
   ]
  }
 ],
 "metadata": {
  "kernelspec": {
   "display_name": "Python 3 (ipykernel)",
   "language": "python",
   "name": "python3"
  },
  "language_info": {
   "codemirror_mode": {
    "name": "ipython",
    "version": 3
   },
   "file_extension": ".py",
   "mimetype": "text/x-python",
   "name": "python",
   "nbconvert_exporter": "python",
   "pygments_lexer": "ipython3",
   "version": "3.11.5"
  }
 },
 "nbformat": 4,
 "nbformat_minor": 5
}
